{
 "cells": [
  {
   "cell_type": "markdown",
   "metadata": {
    "id": "h_GAwHdc1_fH"
   },
   "source": [
    "## 자연어 처리 딥러닝\n",
    "# Seq2seq : 영어-불어 번역기"
   ]
  },
  {
   "cell_type": "markdown",
   "metadata": {
    "id": "8DgZT-mi1_fv"
   },
   "source": [
    "- http://keras.io/examples/lstm_seq2seq/\n",
    "- 데이타 : http://www.manythings.org/anki/fra-eng.zip"
   ]
  },
  {
   "cell_type": "markdown",
   "metadata": {
    "id": "cFZLgrwB1_gJ"
   },
   "source": [
    "<img src='https://wikidocs.net/images/page/24996/%EC%9D%B8%EC%BD%94%EB%8D%94%EB%94%94%EC%BD%94%EB%8D%94%EB%AA%A8%EB%8D%B8.PNG' />\n",
    "<br>(출처: https://wikidocs.net/24996)"
   ]
  },
  {
   "cell_type": "markdown",
   "metadata": {
    "id": "v3s2tVzL1_gL"
   },
   "source": [
    "- Encoder 와 Decoder 두 개의 모델을 만든고 연결한다.\n",
    "- Encoder 는 최종 상태값을 Decoder 에게 넘긴다. (Decoder 의 초기 상태입력값이 된다.)\n",
    "- Decoder 의 목표값은 불어 문장에서 한 단어씩 밀린 문장이다. (최종 출력 문장과 비교하여 손실값 계산)\n",
    "- Seq2seq 는 번역과 같이 쌍으로 된 문장들에 적용한다. => 문장 생성용으로 챗봇 또는 Q/A 등에 사용된다."
   ]
  },
  {
   "cell_type": "code",
   "execution_count": 1,
   "metadata": {
    "id": "hunoWrRb1_ga"
   },
   "outputs": [],
   "source": [
    "import numpy as np\n",
    "import matplotlib.pyplot as plt\n",
    "import pandas as pd\n",
    "\n",
    "from tensorflow import keras"
   ]
  },
  {
   "cell_type": "code",
   "execution_count": 2,
   "metadata": {
    "colab": {
     "base_uri": "https://localhost:8080/"
    },
    "id": "yqKCo2Ou2RS6",
    "outputId": "22afd8a1-5bff-4dfb-c2d1-420dca6ce0c1"
   },
   "outputs": [
    {
     "name": "stdout",
     "output_type": "stream",
     "text": [
      "Mounted at /content/drive\n"
     ]
    }
   ],
   "source": [
    "from google.colab import drive\n",
    "drive.mount('/content/drive')"
   ]
  },
  {
   "cell_type": "code",
   "execution_count": 3,
   "metadata": {
    "colab": {
     "base_uri": "https://localhost:8080/"
    },
    "id": "-0SaN8WX2Qsu",
    "outputId": "79004d4c-8457-4a35-a54f-4cb6e9191d0b"
   },
   "outputs": [
    {
     "name": "stdout",
     "output_type": "stream",
     "text": [
      "/content/drive/MyDrive/dataset.txt  /content/drive/MyDrive/지능설계.txt\n",
      "/content/drive/MyDrive/fra.txt\n"
     ]
    }
   ],
   "source": [
    "! ls /content/drive/MyDrive/*.txt"
   ]
  },
  {
   "cell_type": "code",
   "execution_count": 5,
   "metadata": {
    "id": "hBKKKUCj1_ge"
   },
   "outputs": [],
   "source": [
    "with open('/content/drive/MyDrive/fra.txt', encoding='utf-8') as f:\n",
    "    lines = f.read().split('\\n')"
   ]
  },
  {
   "cell_type": "code",
   "execution_count": 6,
   "metadata": {
    "colab": {
     "base_uri": "https://localhost:8080/",
     "height": 283
    },
    "id": "ZwwR75sJ1_gj",
    "outputId": "9d714250-3197-4fad-89ec-e90498df7131"
   },
   "outputs": [
    {
     "data": {
      "text/plain": [
       "149862"
      ]
     },
     "metadata": {
      "tags": []
     },
     "output_type": "display_data"
    },
    {
     "data": {
      "text/plain": [
       "['Go.\\tVa !',\n",
       " 'Run!\\tCours\\u202f!',\n",
       " 'Run!\\tCourez\\u202f!',\n",
       " 'Wow!\\tÇa alors\\u202f!',\n",
       " 'Fire!\\tAu feu !',\n",
       " \"Help!\\tÀ l'aide\\u202f!\",\n",
       " 'Jump.\\tSaute.',\n",
       " 'Stop!\\tÇa suffit\\u202f!',\n",
       " 'Stop!\\tStop\\u202f!',\n",
       " 'Stop!\\tArrête-toi !']"
      ]
     },
     "metadata": {
      "tags": []
     },
     "output_type": "display_data"
    },
    {
     "data": {
      "text/plain": [
       "[\"If someone who doesn't know your background says that you sound like a native speaker, it means they probably noticed something about your speaking that made them realize you weren't a native speaker. In other words, you don't really sound like a native speaker.\\tSi quelqu'un qui ne connaît pas vos antécédents dit que vous parlez comme un locuteur natif, cela veut dire qu'il a probablement remarqué quelque chose à propos de votre élocution qui l'a fait prendre conscience que vous n'êtes pas un locuteur natif. En d'autres termes, vous ne parlez pas vraiment comme un locuteur natif.\",\n",
       " \"It may be impossible to get a completely error-free corpus due to the nature of this kind of collaborative effort. However, if we encourage members to contribute sentences in their own languages rather than experiment in languages they are learning, we might be able to minimize errors.\\tIl est peut-être impossible d'obtenir un Corpus complètement dénué de fautes, étant donnée la nature de ce type d'entreprise collaborative. Cependant, si nous encourageons les membres à produire des phrases dans leurs propres langues plutôt que d'expérimenter dans les langues qu'ils apprennent, nous pourrions être en mesure de réduire les erreurs.\",\n",
       " '']"
      ]
     },
     "metadata": {
      "tags": []
     },
     "output_type": "display_data"
    }
   ],
   "source": [
    "display(len(lines), lines[:10], lines[-3:])"
   ]
  },
  {
   "cell_type": "markdown",
   "metadata": {
    "id": "ivuLTKe-1_g5"
   },
   "source": [
    "- 총 라인수는 149,862개 임\n",
    "- 탭으로 구분됨 => '영어문장\\t불어문장'\n",
    "- 마지막 라인은 공백임\n",
    "- 이 중 10,000 라인만 사용할 것임"
   ]
  },
  {
   "cell_type": "code",
   "execution_count": 7,
   "metadata": {
    "id": "ZQfphmEX1_hJ"
   },
   "outputs": [],
   "source": [
    "input_texts = []\n",
    "output_texts = []\n",
    "\n",
    "input_chars = set()\n",
    "output_chars = set()\n",
    "\n",
    "for line in lines[:10000]:\n",
    "    s1, s2 = line.split('\\t')\n",
    "    s2 = '\\t' + s2 + '\\n' # 앞에는 탭, 뒤에는 개행문자를 붙인다\n",
    "    input_texts.append(s1)\n",
    "    output_texts.append(s2) \n",
    "    \n",
    "    for c1 in s1:\n",
    "        input_chars.add(c1)\n",
    "            \n",
    "    for c2 in s2:\n",
    "        output_chars.add(c2)\n",
    "            \n",
    "input_chars = sorted(list(input_chars))\n",
    "output_chars = sorted(list(output_chars))"
   ]
  },
  {
   "cell_type": "code",
   "execution_count": 8,
   "metadata": {
    "colab": {
     "base_uri": "https://localhost:8080/"
    },
    "id": "7ebU3rz61_hR",
    "outputId": "c3b6f5b6-be4c-4130-b34b-e78300dae115"
   },
   "outputs": [
    {
     "data": {
      "text/plain": [
       "(10000, 10000, 71, 94)"
      ]
     },
     "execution_count": 8,
     "metadata": {
      "tags": []
     },
     "output_type": "execute_result"
    }
   ],
   "source": [
    "len(input_texts), len(output_texts), len(input_chars), len(output_chars)"
   ]
  },
  {
   "cell_type": "markdown",
   "metadata": {
    "id": "1aFzivCA1_hn"
   },
   "source": [
    "### 단어 사전 (토큰)"
   ]
  },
  {
   "cell_type": "code",
   "execution_count": 9,
   "metadata": {
    "colab": {
     "base_uri": "https://localhost:8080/"
    },
    "id": "QOFKxUI81_hr",
    "outputId": "5ee9ebd5-d7c5-4b5f-a1d2-2bf2feaf5635"
   },
   "outputs": [
    {
     "data": {
      "text/plain": [
       "(71, 94)"
      ]
     },
     "execution_count": 9,
     "metadata": {
      "tags": []
     },
     "output_type": "execute_result"
    }
   ],
   "source": [
    "len(input_chars), len(output_chars) # 71, 94"
   ]
  },
  {
   "cell_type": "code",
   "execution_count": 10,
   "metadata": {
    "colab": {
     "base_uri": "https://localhost:8080/"
    },
    "id": "zz4bneCP1_h_",
    "outputId": "2d4ecbeb-7400-43f8-9170-fd85bf05d343"
   },
   "outputs": [
    {
     "name": "stdout",
     "output_type": "stream",
     "text": [
      "[' ', '!', '$', '&', \"'\", ',', '-', '.', '0', '1', '2', '3', '4', '5', '6', '7', '8', '9', ':', '?', 'A', 'B', 'C', 'D', 'E', 'F', 'G', 'H', 'I', 'J', 'K', 'L', 'M', 'N', 'O', 'P', 'Q', 'R', 'S', 'T', 'U', 'V', 'W', 'Y', 'a', 'b', 'c', 'd', 'e', 'f', 'g', 'h', 'i', 'j', 'k', 'l', 'm', 'n', 'o', 'p', 'q', 'r', 's', 't', 'u', 'v', 'w', 'x', 'y', 'z', '’']\n",
      "['\\t', '\\n', ' ', '!', '$', '&', \"'\", '(', ')', ',', '-', '.', '0', '1', '3', '5', '6', '8', '9', ':', '?', 'A', 'B', 'C', 'D', 'E', 'F', 'G', 'H', 'I', 'J', 'K', 'L', 'M', 'N', 'O', 'P', 'Q', 'R', 'S', 'T', 'U', 'V', 'Y', 'a', 'b', 'c', 'd', 'e', 'f', 'g', 'h', 'i', 'j', 'k', 'l', 'm', 'n', 'o', 'p', 'q', 'r', 's', 't', 'u', 'v', 'w', 'x', 'y', 'z', '\\xa0', '«', '»', 'À', 'Ç', 'É', 'Ê', 'à', 'â', 'ç', 'è', 'é', 'ê', 'ë', 'î', 'ï', 'ô', 'ù', 'û', 'œ', '\\u2009', '‘', '’', '\\u202f']\n"
     ]
    }
   ],
   "source": [
    "print(input_chars)\n",
    "print(output_chars)"
   ]
  },
  {
   "cell_type": "markdown",
   "metadata": {
    "id": "dJ3B1MOv1_iH"
   },
   "source": [
    "### 시퀀스 만들기"
   ]
  },
  {
   "cell_type": "code",
   "execution_count": 11,
   "metadata": {
    "id": "LMYnBkbo1_iM"
   },
   "outputs": [],
   "source": [
    "max_input_len = max([len(s) for s in input_texts])   # 16\n",
    "max_output_len = max([len(s) for s in output_texts]) # 59"
   ]
  },
  {
   "cell_type": "code",
   "execution_count": 12,
   "metadata": {
    "colab": {
     "base_uri": "https://localhost:8080/"
    },
    "id": "ylXL6Qi11_iP",
    "outputId": "400f6d14-f682-4ba5-c767-dfcb9275a0ee"
   },
   "outputs": [
    {
     "data": {
      "text/plain": [
       "(16, 59)"
      ]
     },
     "execution_count": 12,
     "metadata": {
      "tags": []
     },
     "output_type": "execute_result"
    }
   ],
   "source": [
    "max_input_len, max_output_len"
   ]
  },
  {
   "cell_type": "code",
   "execution_count": 13,
   "metadata": {
    "id": "m4V-O2vB1_iz"
   },
   "outputs": [],
   "source": [
    "enc_in_data = np.zeros([10000, max_input_len, len(input_chars)])    # (10000,16,71)\n",
    "dec_in_data = np.zeros([10000, max_output_len, len(output_chars)])  # (10000,59,94)\n",
    "dec_out_data = np.zeros([10000, max_output_len, len(output_chars)]) # (10000,59,94)"
   ]
  },
  {
   "cell_type": "code",
   "execution_count": 14,
   "metadata": {
    "id": "f0-SuMOb1_jI"
   },
   "outputs": [],
   "source": [
    "for i, (s1, s2) in enumerate(zip(input_texts, output_texts)):\n",
    "    for j, c1 in enumerate(s1):\n",
    "        enc_in_data[i, j, input_chars.index(c1)] = 1\n",
    "        \n",
    "    for j, c2 in enumerate(s2):\n",
    "        dec_in_data[i, j, output_chars.index(c2)] = 1\n",
    "        if j>0:\n",
    "            dec_out_data[i, j-1, output_chars.index(c2)] = 1"
   ]
  },
  {
   "cell_type": "code",
   "execution_count": 15,
   "metadata": {
    "colab": {
     "base_uri": "https://localhost:8080/"
    },
    "id": "2HI_PvsB1_jX",
    "outputId": "6410aa04-81ef-478a-cc4a-dfa400f3d38f"
   },
   "outputs": [
    {
     "data": {
      "text/plain": [
       "((10000, 16, 71), (10000, 59, 94), (10000, 59, 94))"
      ]
     },
     "execution_count": 15,
     "metadata": {
      "tags": []
     },
     "output_type": "execute_result"
    }
   ],
   "source": [
    "enc_in_data.shape, dec_in_data.shape, dec_out_data.shape"
   ]
  },
  {
   "cell_type": "markdown",
   "metadata": {
    "id": "g2Sb5jyC1_jb"
   },
   "source": [
    "### 데이터 설명\n",
    "- enc_in_data (10000,16,71)\n",
    "    - 인코더에 들어가는 영어 시퀀스들\n",
    "    - 시퀀스는 16개의 토큰으로 되어 있고, 한 토큰은 영어 71개 문자 원핫인코딩\n",
    "- dec_in_data (10000,59,94)\n",
    "    - 디코더에 들어가는 불어 시퀀스들\n",
    "    - 시퀀스는 59개의 토큰으로 되어 있고, 한 토큰은 불어 94개 문자 원핫인코딩\n",
    "    - 첫번째 문자는 '\\t', 마지막 문자는 '\\n'\n",
    "- dec_out_data (10000,59,94)\n",
    "    - 디코더에서 출력되는 불어 시퀀스들\n",
    "    - dec_in_data 에서 한 토큰씩 밀린 데이터\n",
    "    - 마지막 문자는 '\\n'"
   ]
  },
  {
   "cell_type": "markdown",
   "metadata": {
    "id": "PbqGxE071_je"
   },
   "source": [
    "### Encoder/Decoder 정의\n",
    "- 함수형 API : https://keras.io/getting-started/functional-api-guide/"
   ]
  },
  {
   "cell_type": "code",
   "execution_count": 16,
   "metadata": {
    "id": "24bJr1nN1_jf"
   },
   "outputs": [],
   "source": [
    "from tensorflow.keras.models import Model\n",
    "from tensorflow.keras.layers import Input, LSTM, Dense"
   ]
  },
  {
   "cell_type": "code",
   "execution_count": 46,
   "metadata": {
    "id": "9qb6_n3Z1_jl"
   },
   "outputs": [],
   "source": [
    "enc_input = Input(shape=(None,71))\n",
    "\n",
    "enc_lstm = LSTM(256, return_state=True)\n",
    "enc_output, enc_h, enc_c = enc_lstm(enc_input)\n",
    "\n",
    "enc_states = [enc_h, enc_c]"
   ]
  },
  {
   "cell_type": "code",
   "execution_count": 47,
   "metadata": {
    "id": "5ErwmPUP1_jn"
   },
   "outputs": [],
   "source": [
    "dec_input = Input(shape=(None,94))\n",
    "\n",
    "dec_lstm = LSTM(256, return_sequences=True, return_state=True)\n",
    "dec_outputs, _, _ = dec_lstm(dec_input, initial_state=enc_states) # (59,256)\n",
    "\n",
    "dec_dense = Dense(94, activation='softmax')\n",
    "dec_outputs = dec_dense(dec_outputs) # 각 LSTM 쉘의 출력을 256 => 94 으로 변환 => (59,94)"
   ]
  },
  {
   "cell_type": "code",
   "execution_count": 48,
   "metadata": {
    "id": "hYLSxcPM1_jp"
   },
   "outputs": [],
   "source": [
    "model = Model(inputs=[enc_input, dec_input], outputs=dec_outputs)"
   ]
  },
  {
   "cell_type": "code",
   "execution_count": 49,
   "metadata": {
    "colab": {
     "base_uri": "https://localhost:8080/"
    },
    "id": "KvSq6PpJ1_jr",
    "outputId": "e74b5ca3-951f-453d-e994-fc93c0adc8e0"
   },
   "outputs": [
    {
     "name": "stdout",
     "output_type": "stream",
     "text": [
      "Model: \"model_4\"\n",
      "__________________________________________________________________________________________________\n",
      "Layer (type)                    Output Shape         Param #     Connected to                     \n",
      "==================================================================================================\n",
      "input_8 (InputLayer)            [(None, None, 71)]   0                                            \n",
      "__________________________________________________________________________________________________\n",
      "input_9 (InputLayer)            [(None, None, 94)]   0                                            \n",
      "__________________________________________________________________________________________________\n",
      "lstm_5 (LSTM)                   [(None, 256), (None, 335872      input_8[0][0]                    \n",
      "__________________________________________________________________________________________________\n",
      "lstm_6 (LSTM)                   [(None, None, 256),  359424      input_9[0][0]                    \n",
      "                                                                 lstm_5[0][1]                     \n",
      "                                                                 lstm_5[0][2]                     \n",
      "__________________________________________________________________________________________________\n",
      "dense_3 (Dense)                 (None, None, 94)     24158       lstm_6[0][0]                     \n",
      "==================================================================================================\n",
      "Total params: 719,454\n",
      "Trainable params: 719,454\n",
      "Non-trainable params: 0\n",
      "__________________________________________________________________________________________________\n"
     ]
    }
   ],
   "source": [
    "model.summary()"
   ]
  },
  {
   "cell_type": "code",
   "execution_count": 50,
   "metadata": {
    "id": "ilcOE5Bj1_jt"
   },
   "outputs": [],
   "source": [
    "model.compile(loss='categorical_crossentropy', optimizer='rmsprop', metrics=['acc'])"
   ]
  },
  {
   "cell_type": "code",
   "execution_count": 51,
   "metadata": {
    "colab": {
     "base_uri": "https://localhost:8080/"
    },
    "id": "IH37PQpw1_jv",
    "outputId": "57efdac0-e245-4ae7-eb2c-18de2641eab3",
    "scrolled": true
   },
   "outputs": [
    {
     "name": "stdout",
     "output_type": "stream",
     "text": [
      "Epoch 1/30\n",
      "125/125 [==============================] - 9s 47ms/step - loss: 1.0856 - acc: 0.0486 - val_loss: 1.1515 - val_acc: 0.0592\n",
      "Epoch 2/30\n",
      "125/125 [==============================] - 4s 35ms/step - loss: 0.9600 - acc: 0.0637 - val_loss: 1.0903 - val_acc: 0.0801\n",
      "Epoch 3/30\n",
      "125/125 [==============================] - 4s 34ms/step - loss: 0.9007 - acc: 0.0862 - val_loss: 1.0574 - val_acc: 0.0930\n",
      "Epoch 4/30\n",
      "125/125 [==============================] - 4s 35ms/step - loss: 0.8574 - acc: 0.0976 - val_loss: 1.0192 - val_acc: 0.1022\n",
      "Epoch 5/30\n",
      "125/125 [==============================] - 4s 35ms/step - loss: 0.8192 - acc: 0.1065 - val_loss: 0.9775 - val_acc: 0.1110\n",
      "Epoch 6/30\n",
      "125/125 [==============================] - 4s 35ms/step - loss: 0.7874 - acc: 0.1130 - val_loss: 0.9627 - val_acc: 0.1190\n",
      "Epoch 7/30\n",
      "125/125 [==============================] - 4s 34ms/step - loss: 0.7698 - acc: 0.1194 - val_loss: 0.9372 - val_acc: 0.1208\n",
      "Epoch 8/30\n",
      "125/125 [==============================] - 4s 34ms/step - loss: 0.7549 - acc: 0.1225 - val_loss: 0.8921 - val_acc: 0.1322\n",
      "Epoch 9/30\n",
      "125/125 [==============================] - 4s 34ms/step - loss: 0.7364 - acc: 0.1269 - val_loss: 0.9213 - val_acc: 0.1241\n",
      "Epoch 10/30\n",
      "125/125 [==============================] - 4s 34ms/step - loss: 0.7120 - acc: 0.1298 - val_loss: 0.8844 - val_acc: 0.1337\n",
      "Epoch 11/30\n",
      "125/125 [==============================] - 4s 35ms/step - loss: 0.6977 - acc: 0.1346 - val_loss: 0.8534 - val_acc: 0.1415\n",
      "Epoch 12/30\n",
      "125/125 [==============================] - 4s 35ms/step - loss: 0.6845 - acc: 0.1377 - val_loss: 0.8458 - val_acc: 0.1445\n",
      "Epoch 13/30\n",
      "125/125 [==============================] - 4s 35ms/step - loss: 0.6736 - acc: 0.1399 - val_loss: 0.8049 - val_acc: 0.1513\n",
      "Epoch 14/30\n",
      "125/125 [==============================] - 4s 35ms/step - loss: 0.6674 - acc: 0.1424 - val_loss: 0.8083 - val_acc: 0.1502\n",
      "Epoch 15/30\n",
      "125/125 [==============================] - 4s 35ms/step - loss: 0.6559 - acc: 0.1461 - val_loss: 0.8205 - val_acc: 0.1499\n",
      "Epoch 16/30\n",
      "125/125 [==============================] - 4s 35ms/step - loss: 0.6394 - acc: 0.1463 - val_loss: 0.7892 - val_acc: 0.1562\n",
      "Epoch 17/30\n",
      "125/125 [==============================] - 4s 35ms/step - loss: 0.6352 - acc: 0.1492 - val_loss: 0.7716 - val_acc: 0.1598\n",
      "Epoch 18/30\n",
      "125/125 [==============================] - 4s 35ms/step - loss: 0.6291 - acc: 0.1507 - val_loss: 0.7842 - val_acc: 0.1573\n",
      "Epoch 19/30\n",
      "125/125 [==============================] - 4s 35ms/step - loss: 0.6184 - acc: 0.1528 - val_loss: 0.7769 - val_acc: 0.1587\n",
      "Epoch 20/30\n",
      "125/125 [==============================] - 4s 34ms/step - loss: 0.6095 - acc: 0.1532 - val_loss: 0.7635 - val_acc: 0.1600\n",
      "Epoch 21/30\n",
      "125/125 [==============================] - 4s 35ms/step - loss: 0.6061 - acc: 0.1565 - val_loss: 0.7544 - val_acc: 0.1621\n",
      "Epoch 22/30\n",
      "125/125 [==============================] - 4s 35ms/step - loss: 0.6011 - acc: 0.1569 - val_loss: 0.7609 - val_acc: 0.1613\n",
      "Epoch 23/30\n",
      "125/125 [==============================] - 4s 34ms/step - loss: 0.5942 - acc: 0.1594 - val_loss: 0.7553 - val_acc: 0.1616\n",
      "Epoch 24/30\n",
      "125/125 [==============================] - 4s 35ms/step - loss: 0.5865 - acc: 0.1606 - val_loss: 0.7240 - val_acc: 0.1716\n",
      "Epoch 25/30\n",
      "125/125 [==============================] - 4s 35ms/step - loss: 0.5822 - acc: 0.1607 - val_loss: 0.7344 - val_acc: 0.1678\n",
      "Epoch 26/30\n",
      "125/125 [==============================] - 4s 34ms/step - loss: 0.5753 - acc: 0.1648 - val_loss: 0.7488 - val_acc: 0.1648\n",
      "Epoch 27/30\n",
      "125/125 [==============================] - 4s 35ms/step - loss: 0.5689 - acc: 0.1678 - val_loss: 0.7135 - val_acc: 0.1764\n",
      "Epoch 28/30\n",
      "125/125 [==============================] - 4s 34ms/step - loss: 0.5555 - acc: 0.1743 - val_loss: 0.6976 - val_acc: 0.1850\n",
      "Epoch 29/30\n",
      "125/125 [==============================] - 4s 34ms/step - loss: 0.5453 - acc: 0.1817 - val_loss: 0.7572 - val_acc: 0.1671\n",
      "Epoch 30/30\n",
      "125/125 [==============================] - 4s 35ms/step - loss: 0.5392 - acc: 0.1839 - val_loss: 0.6832 - val_acc: 0.1922\n"
     ]
    }
   ],
   "source": [
    "h = model.fit([enc_in_data, dec_in_data], dec_out_data,\n",
    "          batch_size=64, epochs=30, validation_split=0.2)"
   ]
  },
  {
   "cell_type": "code",
   "execution_count": 33,
   "metadata": {
    "id": "zmQXw0_21_jx"
   },
   "outputs": [],
   "source": [
    "model.save('eng_fra_model_colab.h5')"
   ]
  },
  {
   "cell_type": "code",
   "execution_count": 34,
   "metadata": {
    "id": "Z9RRbafX4epT"
   },
   "outputs": [],
   "source": [
    "! cp eng_fra_model_colab.h5 /content/drive/MyDrive/"
   ]
  },
  {
   "cell_type": "code",
   "execution_count": 52,
   "metadata": {
    "colab": {
     "base_uri": "https://localhost:8080/",
     "height": 282
    },
    "id": "z3eV5btt1_jz",
    "outputId": "df12c98f-9d7f-425c-b787-0a3168d54961"
   },
   "outputs": [
    {
     "data": {
      "text/plain": [
       "<matplotlib.legend.Legend at 0x7fd1654bb1d0>"
      ]
     },
     "execution_count": 52,
     "metadata": {
      "tags": []
     },
     "output_type": "execute_result"
    },
    {
     "data": {
      "image/png": "[encoded data removed]",
      "text/plain": [
       "<Figure size 432x288 with 1 Axes>"
      ]
     },
     "metadata": {
      "needs_background": "light",
      "tags": []
     },
     "output_type": "display_data"
    }
   ],
   "source": [
    "plt.plot(h.history['loss'], 'b-')\n",
    "plt.plot(h.history['val_loss'], 'r-')\n",
    "plt.legend(['loss','val_loss'])"
   ]
  },
  {
   "cell_type": "code",
   "execution_count": 53,
   "metadata": {
    "colab": {
     "base_uri": "https://localhost:8080/",
     "height": 282
    },
    "id": "6L8cD_vI6U2s",
    "outputId": "7f23826c-762d-47a7-ba7f-0ffe899bfa9b"
   },
   "outputs": [
    {
     "data": {
      "text/plain": [
       "<matplotlib.legend.Legend at 0x7fd11a283410>"
      ]
     },
     "execution_count": 53,
     "metadata": {
      "tags": []
     },
     "output_type": "execute_result"
    },
    {
     "data": {
      "image/png": "[encoded data removed]",
      "text/plain": [
       "<Figure size 432x288 with 1 Axes>"
      ]
     },
     "metadata": {
      "needs_background": "light",
      "tags": []
     },
     "output_type": "display_data"
    }
   ],
   "source": [
    "plt.plot(h.history['acc'], 'b-')\n",
    "plt.plot(h.history['val_acc'], 'r-')\n",
    "plt.legend(['acc','val_acc'])"
   ]
  },
  {
   "cell_type": "markdown",
   "metadata": {
    "id": "1r608Xi31_kh"
   },
   "source": [
    "### 번역 실행"
   ]
  },
  {
   "cell_type": "code",
   "execution_count": 54,
   "metadata": {
    "id": "z8ZlNX6B1_kj"
   },
   "outputs": [],
   "source": [
    "enc_model = Model(enc_input, enc_states)"
   ]
  },
  {
   "cell_type": "code",
   "execution_count": null,
   "metadata": {
    "id": "tZuUUBxvChsM"
   },
   "outputs": [],
   "source": []
  },
  {
   "cell_type": "code",
   "execution_count": 55,
   "metadata": {
    "id": "_0ePkwfS1_kk"
   },
   "outputs": [],
   "source": [
    "dec_input_h = Input(shape=(256,))\n",
    "dec_input_c = Input(shape=(256,))\n",
    "dec_states_input = [dec_input_h, dec_input_c]"
   ]
  },
  {
   "cell_type": "code",
   "execution_count": 56,
   "metadata": {
    "id": "9NQlkwcq1_kn"
   },
   "outputs": [],
   "source": [
    "dec_outputs, dec_h, dec_c = dec_lstm(dec_input, initial_state=dec_states_input)\n",
    "dec_states = [dec_h, dec_c]\n",
    "\n",
    "dec_outputs2 = dec_dense(dec_outputs)\n",
    "\n",
    "dec_model = Model([dec_input] + dec_states_input, [dec_outputs2] + dec_states)"
   ]
  },
  {
   "cell_type": "markdown",
   "metadata": {
    "id": "2djp1-wI1_kp"
   },
   "source": [
    "### 출력 테스트"
   ]
  },
  {
   "cell_type": "code",
   "execution_count": 57,
   "metadata": {
    "id": "Ormvf9hU1_lT"
   },
   "outputs": [],
   "source": [
    "def decode_sequence(seq):\n",
    "    states_value = enc_model.predict(seq)\n",
    "    \n",
    "    output_seq = np.zeros([1,1,94]) # 94 는 불어사전 문자수\n",
    "    output_seq[0,0,output_chars.index('\\t')] = 1 # 첫번째 입력문자를 '\\t' 로 설정\n",
    "    \n",
    "    stop = False\n",
    "    result = ''\n",
    "    \n",
    "    while not stop:\n",
    "        output_tokens, h, c = dec_model.predict([output_seq] + states_value)\n",
    "        result += output_chars[np.argmax(output_tokens[0,-1,:])]\n",
    "        \n",
    "        if (result[-1]=='\\n' or len(result)>=59): # 59는 불어 문장 최대 길이\n",
    "            stop = True\n",
    "            \n",
    "        output_seq = np.zeros([1,1,94]) # 94 는 불어사전 문자수\n",
    "        output_seq[0,0,np.argmax(output_tokens[0,-1])] = 1\n",
    "        states_value = [h,c]\n",
    "        \n",
    "    return result"
   ]
  },
  {
   "cell_type": "code",
   "execution_count": 58,
   "metadata": {
    "colab": {
     "base_uri": "https://localhost:8080/"
    },
    "id": "9CfXkYQt1_lh",
    "outputId": "fc98cf36-de70-471d-9e7f-1823f6fd5301"
   },
   "outputs": [
    {
     "name": "stdout",
     "output_type": "stream",
     "text": [
      "################################\n",
      "I hate flying.\n",
      "=>\n",
      "Je l'ai auche.\n",
      "\n",
      "################################\n",
      "I hate losing.\n",
      "=>\n",
      "Je l'ai auche.\n",
      "\n"
     ]
    }
   ],
   "source": [
    "for i in range(2):\n",
    "    seq = enc_in_data[5000+i:5000+i+1]\n",
    "    result = decode_sequence(seq)\n",
    "    \n",
    "    print('################################')\n",
    "    print(input_texts[5000+i])\n",
    "    print('=>')\n",
    "    print(result)"
   ]
  },
  {
   "cell_type": "code",
   "execution_count": 62,
   "metadata": {
    "colab": {
     "base_uri": "https://localhost:8080/"
    },
    "id": "SX7PtOqm1_lk",
    "outputId": "1ec13f90-b0e5-4cf6-c9a6-2f0699449fee"
   },
   "outputs": [
    {
     "name": "stdout",
     "output_type": "stream",
     "text": [
      "################################\n",
      "He's too drunk.\n",
      "Il est trop ivre.\n",
      "=>\n",
      "[Il est trou de la parte.\n",
      "]\n",
      "################################\n",
      "He's very open.\n",
      "Il est très ouvert.\n",
      "=>\n",
      "[Il est en train de la parte.\n",
      "]\n",
      "################################\n",
      "Hello everyone!\n",
      "Salut tout le monde !\n",
      "=>\n",
      "[Prende le coure.\n",
      "]\n"
     ]
    }
   ],
   "source": [
    "start = 7000\n",
    "for i in range(3):\n",
    "    seq = enc_in_data[start+i:start+i+1]\n",
    "    result = decode_sequence(seq)\n",
    "    \n",
    "    print('################################')\n",
    "    print(input_texts[start+i])\n",
    "    print(output_texts[start+i][1:-1])\n",
    "    print('=>')\n",
    "    #print('[%s]' % result.replace(' ','_'))\n",
    "    print('[%s]' % result)"
   ]
  },
  {
   "cell_type": "markdown",
   "metadata": {
    "id": "ndgWHV3j1_ln"
   },
   "source": [
    "### 새로운 문장으로 테스트"
   ]
  },
  {
   "cell_type": "code",
   "execution_count": 63,
   "metadata": {
    "colab": {
     "base_uri": "https://localhost:8080/",
     "height": 72
    },
    "id": "FOSRZvF21_lo",
    "outputId": "bbe1fa6c-fd1b-4072-95c1-f62bac457c28"
   },
   "outputs": [
    {
     "data": {
      "application/vnd.google.colaboratory.intrinsic+json": {
       "type": "string"
      },
      "text/plain": [
       "'Are you ready?'"
      ]
     },
     "metadata": {
      "tags": []
     },
     "output_type": "display_data"
    },
    {
     "data": {
      "application/vnd.google.colaboratory.intrinsic+json": {
       "type": "string"
      },
      "text/plain": [
       "''"
      ]
     },
     "metadata": {
      "tags": []
     },
     "output_type": "display_data"
    },
    {
     "data": {
      "application/vnd.google.colaboratory.intrinsic+json": {
       "type": "string"
      },
      "text/plain": [
       "'Es-tu sout e ais le cous .'"
      ]
     },
     "metadata": {
      "tags": []
     },
     "output_type": "display_data"
    }
   ],
   "source": [
    "#s1, s2 = lines[10010].strip().split('\\t')\n",
    "s1 = 'Are you ready?'\n",
    "s2 = ''\n",
    "v = [input_chars.index(c) for c in s1]\n",
    "\n",
    "a = np.zeros([1,16,71])\n",
    "for i in range(len(v)):\n",
    "    a[0,i,v[i]] = 1\n",
    "    \n",
    "r = decode_sequence(a)\n",
    "display(s1, s2, r[:-1])"
   ]
  }
 ],
 "metadata": {
  "accelerator": "GPU",
  "colab": {
   "collapsed_sections": [],
   "name": "42_rnn_seq2seq.ipynb",
   "provenance": []
  },
  "kernelspec": {
   "display_name": "Python 3",
   "language": "python",
   "name": "python3"
  },
  "language_info": {
   "codemirror_mode": {
    "name": "ipython",
    "version": 3
   },
   "file_extension": ".py",
   "mimetype": "text/x-python",
   "name": "python",
   "nbconvert_exporter": "python",
   "pygments_lexer": "ipython3",
   "version": "3.8.8"
  }
 },
 "nbformat": 4,
 "nbformat_minor": 1
}
