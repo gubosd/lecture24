{
  "nbformat": 4,
  "nbformat_minor": 0,
  "metadata": {
    "kernelspec": {
      "display_name": "Python 3",
      "language": "python",
      "name": "python3"
    },
    "language_info": {
      "codemirror_mode": {
        "name": "ipython",
        "version": 3
      },
      "file_extension": ".py",
      "mimetype": "text/x-python",
      "name": "python",
      "nbconvert_exporter": "python",
      "pygments_lexer": "ipython3",
      "version": "3.8.5"
    },
    "colab": {
      "name": "42_rnn_seq2seq.ipynb",
      "provenance": [],
      "collapsed_sections": []
    },
    "accelerator": "GPU"
  },
  "cells": [
    {
      "cell_type": "markdown",
      "metadata": {
        "id": "h_GAwHdc1_fH"
      },
      "source": [
        "## 자연어 처리 딥러닝\n",
        "# Seq2seq : 영어-불어 번역기"
      ]
    },
    {
      "cell_type": "markdown",
      "metadata": {
        "id": "8DgZT-mi1_fv"
      },
      "source": [
        "- http://keras.io/examples/lstm_seq2seq/\n",
        "- 데이타 : http://www.manythings.org/anki/fra-eng.zip"
      ]
    },
    {
      "cell_type": "markdown",
      "metadata": {
        "id": "cFZLgrwB1_gJ"
      },
      "source": [
        "<img src='https://www.d2l.ai/_images/seq2seq.svg' />\n",
        "(출처: https://www.d2l.ai/chapter_recurrent-neural-networks/seq2seq.html)"
      ]
    },
    {
      "cell_type": "markdown",
      "metadata": {
        "id": "v3s2tVzL1_gL"
      },
      "source": [
        "- Encoder 와 Decoder 두 개의 모델을 만든고 연결한다.\n",
        "- Encoder 는 최종 상태값을 Decoder 에게 넘긴다. (Decoder 의 초기 상태입력값이 된다.)\n",
        "- Decoder 의 목표값은 불어 문장에서 한 단어씩 밀린 문장이다. (최종 출력 문장과 비교하여 손실값 계산)\n",
        "- Seq2seq 는 번역과 같이 쌍으로 된 문장들에 적용한다. => 문장 생성용으로 챗봇 또는 Q/A 등에 사용된다."
      ]
    },
    {
      "cell_type": "code",
      "metadata": {
        "id": "hunoWrRb1_ga"
      },
      "source": [
        "import numpy as np\n",
        "import matplotlib.pyplot as plt\n",
        "import pandas as pd\n",
        "\n",
        "from tensorflow import keras"
      ],
      "execution_count": 1,
      "outputs": []
    },
    {
      "cell_type": "code",
      "metadata": {
        "colab": {
          "base_uri": "https://localhost:8080/"
        },
        "id": "yqKCo2Ou2RS6",
        "outputId": "22afd8a1-5bff-4dfb-c2d1-420dca6ce0c1"
      },
      "source": [
        "from google.colab import drive\n",
        "drive.mount('/content/drive')"
      ],
      "execution_count": 2,
      "outputs": [
        {
          "output_type": "stream",
          "text": [
            "Mounted at /content/drive\n"
          ],
          "name": "stdout"
        }
      ]
    },
    {
      "cell_type": "code",
      "metadata": {
        "colab": {
          "base_uri": "https://localhost:8080/"
        },
        "id": "-0SaN8WX2Qsu",
        "outputId": "79004d4c-8457-4a35-a54f-4cb6e9191d0b"
      },
      "source": [
        "! ls /content/drive/MyDrive/*.txt"
      ],
      "execution_count": 3,
      "outputs": [
        {
          "output_type": "stream",
          "text": [
            "/content/drive/MyDrive/dataset.txt  /content/drive/MyDrive/지능설계.txt\n",
            "/content/drive/MyDrive/fra.txt\n"
          ],
          "name": "stdout"
        }
      ]
    },
    {
      "cell_type": "code",
      "metadata": {
        "id": "hBKKKUCj1_ge"
      },
      "source": [
        "with open('/content/drive/MyDrive/fra.txt', encoding='utf-8') as f:\n",
        "    lines = f.read().split('\\n')"
      ],
      "execution_count": 5,
      "outputs": []
    },
    {
      "cell_type": "code",
      "metadata": {
        "colab": {
          "base_uri": "https://localhost:8080/",
          "height": 283
        },
        "id": "ZwwR75sJ1_gj",
        "outputId": "9d714250-3197-4fad-89ec-e90498df7131"
      },
      "source": [
        "display(len(lines), lines[:10], lines[-3:])"
      ],
      "execution_count": 6,
      "outputs": [
        {
          "output_type": "display_data",
          "data": {
            "text/plain": [
              "149862"
            ]
          },
          "metadata": {
            "tags": []
          }
        },
        {
          "output_type": "display_data",
          "data": {
            "text/plain": [
              "['Go.\\tVa !',\n",
              " 'Run!\\tCours\\u202f!',\n",
              " 'Run!\\tCourez\\u202f!',\n",
              " 'Wow!\\tÇa alors\\u202f!',\n",
              " 'Fire!\\tAu feu !',\n",
              " \"Help!\\tÀ l'aide\\u202f!\",\n",
              " 'Jump.\\tSaute.',\n",
              " 'Stop!\\tÇa suffit\\u202f!',\n",
              " 'Stop!\\tStop\\u202f!',\n",
              " 'Stop!\\tArrête-toi !']"
            ]
          },
          "metadata": {
            "tags": []
          }
        },
        {
          "output_type": "display_data",
          "data": {
            "text/plain": [
              "[\"If someone who doesn't know your background says that you sound like a native speaker, it means they probably noticed something about your speaking that made them realize you weren't a native speaker. In other words, you don't really sound like a native speaker.\\tSi quelqu'un qui ne connaît pas vos antécédents dit que vous parlez comme un locuteur natif, cela veut dire qu'il a probablement remarqué quelque chose à propos de votre élocution qui l'a fait prendre conscience que vous n'êtes pas un locuteur natif. En d'autres termes, vous ne parlez pas vraiment comme un locuteur natif.\",\n",
              " \"It may be impossible to get a completely error-free corpus due to the nature of this kind of collaborative effort. However, if we encourage members to contribute sentences in their own languages rather than experiment in languages they are learning, we might be able to minimize errors.\\tIl est peut-être impossible d'obtenir un Corpus complètement dénué de fautes, étant donnée la nature de ce type d'entreprise collaborative. Cependant, si nous encourageons les membres à produire des phrases dans leurs propres langues plutôt que d'expérimenter dans les langues qu'ils apprennent, nous pourrions être en mesure de réduire les erreurs.\",\n",
              " '']"
            ]
          },
          "metadata": {
            "tags": []
          }
        }
      ]
    },
    {
      "cell_type": "markdown",
      "metadata": {
        "id": "ivuLTKe-1_g5"
      },
      "source": [
        "- 총 라인수는 149,862개 임\n",
        "- 탭으로 구분됨 => '영어문장\\t불어문장'\n",
        "- 마지막 라인은 공백임\n",
        "- 이 중 10,000 라인만 사용할 것임"
      ]
    },
    {
      "cell_type": "code",
      "metadata": {
        "id": "ZQfphmEX1_hJ"
      },
      "source": [
        "input_texts = []\n",
        "output_texts = []\n",
        "\n",
        "input_chars = set()\n",
        "output_chars = set()\n",
        "\n",
        "for line in lines[:10000]:\n",
        "    s1, s2 = line.split('\\t')\n",
        "    s2 = '\\t' + s2 + '\\n' # 앞에는 탭, 뒤에는 개행문자를 붙인다\n",
        "    input_texts.append(s1)\n",
        "    output_texts.append(s2) \n",
        "    \n",
        "    for c1 in s1:\n",
        "        input_chars.add(c1)\n",
        "            \n",
        "    for c2 in s2:\n",
        "        output_chars.add(c2)\n",
        "            \n",
        "input_chars = sorted(list(input_chars))\n",
        "output_chars = sorted(list(output_chars))"
      ],
      "execution_count": 7,
      "outputs": []
    },
    {
      "cell_type": "code",
      "metadata": {
        "colab": {
          "base_uri": "https://localhost:8080/"
        },
        "id": "7ebU3rz61_hR",
        "outputId": "c3b6f5b6-be4c-4130-b34b-e78300dae115"
      },
      "source": [
        "len(input_texts), len(output_texts), len(input_chars), len(output_chars)"
      ],
      "execution_count": 8,
      "outputs": [
        {
          "output_type": "execute_result",
          "data": {
            "text/plain": [
              "(10000, 10000, 71, 94)"
            ]
          },
          "metadata": {
            "tags": []
          },
          "execution_count": 8
        }
      ]
    },
    {
      "cell_type": "markdown",
      "metadata": {
        "id": "1aFzivCA1_hn"
      },
      "source": [
        "### 단어 사전 (토큰)"
      ]
    },
    {
      "cell_type": "code",
      "metadata": {
        "colab": {
          "base_uri": "https://localhost:8080/"
        },
        "id": "QOFKxUI81_hr",
        "outputId": "5ee9ebd5-d7c5-4b5f-a1d2-2bf2feaf5635"
      },
      "source": [
        "len(input_chars), len(output_chars) # 71, 94"
      ],
      "execution_count": 9,
      "outputs": [
        {
          "output_type": "execute_result",
          "data": {
            "text/plain": [
              "(71, 94)"
            ]
          },
          "metadata": {
            "tags": []
          },
          "execution_count": 9
        }
      ]
    },
    {
      "cell_type": "code",
      "metadata": {
        "colab": {
          "base_uri": "https://localhost:8080/"
        },
        "id": "zz4bneCP1_h_",
        "outputId": "2d4ecbeb-7400-43f8-9170-fd85bf05d343"
      },
      "source": [
        "print(input_chars)\n",
        "print(output_chars)"
      ],
      "execution_count": 10,
      "outputs": [
        {
          "output_type": "stream",
          "text": [
            "[' ', '!', '$', '&', \"'\", ',', '-', '.', '0', '1', '2', '3', '4', '5', '6', '7', '8', '9', ':', '?', 'A', 'B', 'C', 'D', 'E', 'F', 'G', 'H', 'I', 'J', 'K', 'L', 'M', 'N', 'O', 'P', 'Q', 'R', 'S', 'T', 'U', 'V', 'W', 'Y', 'a', 'b', 'c', 'd', 'e', 'f', 'g', 'h', 'i', 'j', 'k', 'l', 'm', 'n', 'o', 'p', 'q', 'r', 's', 't', 'u', 'v', 'w', 'x', 'y', 'z', '’']\n",
            "['\\t', '\\n', ' ', '!', '$', '&', \"'\", '(', ')', ',', '-', '.', '0', '1', '3', '5', '6', '8', '9', ':', '?', 'A', 'B', 'C', 'D', 'E', 'F', 'G', 'H', 'I', 'J', 'K', 'L', 'M', 'N', 'O', 'P', 'Q', 'R', 'S', 'T', 'U', 'V', 'Y', 'a', 'b', 'c', 'd', 'e', 'f', 'g', 'h', 'i', 'j', 'k', 'l', 'm', 'n', 'o', 'p', 'q', 'r', 's', 't', 'u', 'v', 'w', 'x', 'y', 'z', '\\xa0', '«', '»', 'À', 'Ç', 'É', 'Ê', 'à', 'â', 'ç', 'è', 'é', 'ê', 'ë', 'î', 'ï', 'ô', 'ù', 'û', 'œ', '\\u2009', '‘', '’', '\\u202f']\n"
          ],
          "name": "stdout"
        }
      ]
    },
    {
      "cell_type": "markdown",
      "metadata": {
        "id": "dJ3B1MOv1_iH"
      },
      "source": [
        "### 시퀀스 만들기"
      ]
    },
    {
      "cell_type": "code",
      "metadata": {
        "id": "LMYnBkbo1_iM"
      },
      "source": [
        "max_input_len = max([len(s) for s in input_texts])   # 16\n",
        "max_output_len = max([len(s) for s in output_texts]) # 59"
      ],
      "execution_count": 11,
      "outputs": []
    },
    {
      "cell_type": "code",
      "metadata": {
        "colab": {
          "base_uri": "https://localhost:8080/"
        },
        "id": "ylXL6Qi11_iP",
        "outputId": "400f6d14-f682-4ba5-c767-dfcb9275a0ee"
      },
      "source": [
        "max_input_len, max_output_len"
      ],
      "execution_count": 12,
      "outputs": [
        {
          "output_type": "execute_result",
          "data": {
            "text/plain": [
              "(16, 59)"
            ]
          },
          "metadata": {
            "tags": []
          },
          "execution_count": 12
        }
      ]
    },
    {
      "cell_type": "code",
      "metadata": {
        "id": "m4V-O2vB1_iz"
      },
      "source": [
        "enc_in_data = np.zeros([10000, max_input_len, len(input_chars)])    # (10000,16,71)\n",
        "dec_in_data = np.zeros([10000, max_output_len, len(output_chars)])  # (10000,59,94)\n",
        "dec_out_data = np.zeros([10000, max_output_len, len(output_chars)]) # (10000,59,94)"
      ],
      "execution_count": 13,
      "outputs": []
    },
    {
      "cell_type": "code",
      "metadata": {
        "id": "f0-SuMOb1_jI"
      },
      "source": [
        "for i, (s1, s2) in enumerate(zip(input_texts, output_texts)):\n",
        "    for j, c1 in enumerate(s1):\n",
        "        enc_in_data[i, j, input_chars.index(c1)] = 1\n",
        "        \n",
        "    for j, c2 in enumerate(s2):\n",
        "        dec_in_data[i, j, output_chars.index(c2)] = 1\n",
        "        if j>0:\n",
        "            dec_out_data[i, j-1, output_chars.index(c2)] = 1"
      ],
      "execution_count": 14,
      "outputs": []
    },
    {
      "cell_type": "code",
      "metadata": {
        "colab": {
          "base_uri": "https://localhost:8080/"
        },
        "id": "2HI_PvsB1_jX",
        "outputId": "6410aa04-81ef-478a-cc4a-dfa400f3d38f"
      },
      "source": [
        "enc_in_data.shape, dec_in_data.shape, dec_out_data.shape"
      ],
      "execution_count": 15,
      "outputs": [
        {
          "output_type": "execute_result",
          "data": {
            "text/plain": [
              "((10000, 16, 71), (10000, 59, 94), (10000, 59, 94))"
            ]
          },
          "metadata": {
            "tags": []
          },
          "execution_count": 15
        }
      ]
    },
    {
      "cell_type": "markdown",
      "metadata": {
        "id": "g2Sb5jyC1_jb"
      },
      "source": [
        "### 데이터 설명\n",
        "- enc_in_data (10000,16,71)\n",
        "    - 인코더에 들어가는 영어 시퀀스들\n",
        "    - 시퀀스는 16개의 토큰으로 되어 있고, 한 토큰은 영어 71개 문자 원핫인코딩\n",
        "- dec_in_data (10000,59,94)\n",
        "    - 디코더에 들어가는 불어 시퀀스들\n",
        "    - 시퀀스는 59개의 토큰으로 되어 있고, 한 토큰은 불어 94개 문자 원핫인코딩\n",
        "    - 첫번째 문자는 '\\t', 마지막 문자는 '\\n'\n",
        "- dec_out_data (10000,59,94)\n",
        "    - 디코더에서 출력되는 불어 시퀀스들\n",
        "    - dec_in_data 에서 한 토큰씩 밀린 데이터\n",
        "    - 마지막 문자는 '\\n'"
      ]
    },
    {
      "cell_type": "markdown",
      "metadata": {
        "id": "PbqGxE071_je"
      },
      "source": [
        "### Encoder/Decoder 정의\n",
        "- 함수형 API : https://keras.io/getting-started/functional-api-guide/"
      ]
    },
    {
      "cell_type": "code",
      "metadata": {
        "id": "24bJr1nN1_jf"
      },
      "source": [
        "from tensorflow.keras.models import Model\n",
        "from tensorflow.keras.layers import Input, LSTM, Dense"
      ],
      "execution_count": 16,
      "outputs": []
    },
    {
      "cell_type": "code",
      "metadata": {
        "id": "9qb6_n3Z1_jl"
      },
      "source": [
        "enc_input = Input(shape=(None,71))\n",
        "\n",
        "enc_lstm = LSTM(256, return_state=True)\n",
        "enc_output, enc_h, enc_c = enc_lstm(enc_input)\n",
        "\n",
        "enc_states = [enc_h, enc_c]"
      ],
      "execution_count": 64,
      "outputs": []
    },
    {
      "cell_type": "code",
      "metadata": {
        "id": "5ErwmPUP1_jn"
      },
      "source": [
        "dec_input = Input(shape=(None,94))\n",
        "\n",
        "dec_lstm = LSTM(256, return_sequences=True, return_state=True)\n",
        "dec_outputs, _, _ = dec_lstm(dec_input, initial_state=enc_states) # (59,256)\n",
        "\n",
        "dec_dense = Dense(94, activation='softmax')\n",
        "dec_outputs = dec_dense(dec_outputs) # 각 LSTM 쉘의 출력을 256 => 94 으로 변환 => (59,94)"
      ],
      "execution_count": 65,
      "outputs": []
    },
    {
      "cell_type": "code",
      "metadata": {
        "id": "hYLSxcPM1_jp"
      },
      "source": [
        "model = Model(inputs=[enc_input, dec_input], outputs=dec_outputs)"
      ],
      "execution_count": 66,
      "outputs": []
    },
    {
      "cell_type": "code",
      "metadata": {
        "colab": {
          "base_uri": "https://localhost:8080/"
        },
        "id": "KvSq6PpJ1_jr",
        "outputId": "01b428a2-7d42-4408-c7e1-b614e450b8f3"
      },
      "source": [
        "model.summary()"
      ],
      "execution_count": 67,
      "outputs": [
        {
          "output_type": "stream",
          "text": [
            "Model: \"model_7\"\n",
            "__________________________________________________________________________________________________\n",
            "Layer (type)                    Output Shape         Param #     Connected to                     \n",
            "==================================================================================================\n",
            "input_12 (InputLayer)           [(None, None, 71)]   0                                            \n",
            "__________________________________________________________________________________________________\n",
            "input_13 (InputLayer)           [(None, None, 94)]   0                                            \n",
            "__________________________________________________________________________________________________\n",
            "lstm_7 (LSTM)                   [(None, 256), (None, 335872      input_12[0][0]                   \n",
            "__________________________________________________________________________________________________\n",
            "lstm_8 (LSTM)                   [(None, None, 256),  359424      input_13[0][0]                   \n",
            "                                                                 lstm_7[0][1]                     \n",
            "                                                                 lstm_7[0][2]                     \n",
            "__________________________________________________________________________________________________\n",
            "dense_4 (Dense)                 (None, None, 94)     24158       lstm_8[0][0]                     \n",
            "==================================================================================================\n",
            "Total params: 719,454\n",
            "Trainable params: 719,454\n",
            "Non-trainable params: 0\n",
            "__________________________________________________________________________________________________\n"
          ],
          "name": "stdout"
        }
      ]
    },
    {
      "cell_type": "code",
      "metadata": {
        "id": "ilcOE5Bj1_jt"
      },
      "source": [
        "model.compile(loss='categorical_crossentropy', optimizer='rmsprop', metrics=['acc'])"
      ],
      "execution_count": 68,
      "outputs": []
    },
    {
      "cell_type": "code",
      "metadata": {
        "scrolled": true,
        "colab": {
          "base_uri": "https://localhost:8080/"
        },
        "id": "IH37PQpw1_jv",
        "outputId": "50e56100-c563-496f-ef80-ff6383d7df67"
      },
      "source": [
        "h = model.fit([enc_in_data, dec_in_data], dec_out_data,\n",
        "          batch_size=64, epochs=100, validation_split=0.2)"
      ],
      "execution_count": 69,
      "outputs": [
        {
          "output_type": "stream",
          "text": [
            "Epoch 1/100\n",
            "125/125 [==============================] - 8s 44ms/step - loss: 1.0924 - acc: 0.0470 - val_loss: 1.1897 - val_acc: 0.0567\n",
            "Epoch 2/100\n",
            "125/125 [==============================] - 4s 34ms/step - loss: 0.9825 - acc: 0.0632 - val_loss: 1.1310 - val_acc: 0.0789\n",
            "Epoch 3/100\n",
            "125/125 [==============================] - 4s 34ms/step - loss: 0.9197 - acc: 0.0814 - val_loss: 1.0714 - val_acc: 0.0926\n",
            "Epoch 4/100\n",
            "125/125 [==============================] - 4s 35ms/step - loss: 0.8757 - acc: 0.0938 - val_loss: 1.0209 - val_acc: 0.1031\n",
            "Epoch 5/100\n",
            "125/125 [==============================] - 4s 34ms/step - loss: 0.8421 - acc: 0.1036 - val_loss: 0.9755 - val_acc: 0.1151\n",
            "Epoch 6/100\n",
            "125/125 [==============================] - 4s 34ms/step - loss: 0.8062 - acc: 0.1108 - val_loss: 0.9679 - val_acc: 0.1178\n",
            "Epoch 7/100\n",
            "125/125 [==============================] - 4s 34ms/step - loss: 0.7826 - acc: 0.1161 - val_loss: 0.9441 - val_acc: 0.1212\n",
            "Epoch 8/100\n",
            "125/125 [==============================] - 4s 34ms/step - loss: 0.7634 - acc: 0.1213 - val_loss: 0.9140 - val_acc: 0.1286\n",
            "Epoch 9/100\n",
            "125/125 [==============================] - 4s 35ms/step - loss: 0.7475 - acc: 0.1252 - val_loss: 0.9029 - val_acc: 0.1303\n",
            "Epoch 10/100\n",
            "125/125 [==============================] - 4s 35ms/step - loss: 0.7262 - acc: 0.1290 - val_loss: 0.8605 - val_acc: 0.1419\n",
            "Epoch 11/100\n",
            "125/125 [==============================] - 4s 35ms/step - loss: 0.7114 - acc: 0.1343 - val_loss: 0.8515 - val_acc: 0.1429\n",
            "Epoch 12/100\n",
            "125/125 [==============================] - 4s 35ms/step - loss: 0.6921 - acc: 0.1366 - val_loss: 0.8519 - val_acc: 0.1430\n",
            "Epoch 13/100\n",
            "125/125 [==============================] - 4s 35ms/step - loss: 0.6776 - acc: 0.1397 - val_loss: 0.8257 - val_acc: 0.1491\n",
            "Epoch 14/100\n",
            "125/125 [==============================] - 4s 35ms/step - loss: 0.6720 - acc: 0.1435 - val_loss: 0.7836 - val_acc: 0.1558\n",
            "Epoch 15/100\n",
            "125/125 [==============================] - 4s 35ms/step - loss: 0.6581 - acc: 0.1460 - val_loss: 0.8327 - val_acc: 0.1497\n",
            "Epoch 16/100\n",
            "125/125 [==============================] - 4s 34ms/step - loss: 0.6452 - acc: 0.1479 - val_loss: 0.8116 - val_acc: 0.1538\n",
            "Epoch 17/100\n",
            "125/125 [==============================] - 4s 34ms/step - loss: 0.6364 - acc: 0.1503 - val_loss: 0.8278 - val_acc: 0.1515\n",
            "Epoch 18/100\n",
            "125/125 [==============================] - 4s 34ms/step - loss: 0.6309 - acc: 0.1536 - val_loss: 0.7862 - val_acc: 0.1594\n",
            "Epoch 19/100\n",
            "125/125 [==============================] - 4s 34ms/step - loss: 0.6208 - acc: 0.1562 - val_loss: 0.8048 - val_acc: 0.1575\n",
            "Epoch 20/100\n",
            "125/125 [==============================] - 4s 35ms/step - loss: 0.6073 - acc: 0.1611 - val_loss: 0.7382 - val_acc: 0.1725\n",
            "Epoch 21/100\n",
            "125/125 [==============================] - 4s 35ms/step - loss: 0.5936 - acc: 0.1664 - val_loss: 0.7826 - val_acc: 0.1631\n",
            "Epoch 22/100\n",
            "125/125 [==============================] - 4s 34ms/step - loss: 0.5703 - acc: 0.1749 - val_loss: 0.7245 - val_acc: 0.1804\n",
            "Epoch 23/100\n",
            "125/125 [==============================] - 4s 34ms/step - loss: 0.5534 - acc: 0.1779 - val_loss: 0.6948 - val_acc: 0.1867\n",
            "Epoch 24/100\n",
            "125/125 [==============================] - 4s 34ms/step - loss: 0.5511 - acc: 0.1816 - val_loss: 0.7029 - val_acc: 0.1848\n",
            "Epoch 25/100\n",
            "125/125 [==============================] - 4s 34ms/step - loss: 0.5420 - acc: 0.1819 - val_loss: 0.6814 - val_acc: 0.1899\n",
            "Epoch 26/100\n",
            "125/125 [==============================] - 4s 35ms/step - loss: 0.5293 - acc: 0.1831 - val_loss: 0.7011 - val_acc: 0.1849\n",
            "Epoch 27/100\n",
            "125/125 [==============================] - 4s 35ms/step - loss: 0.5258 - acc: 0.1850 - val_loss: 0.6719 - val_acc: 0.1905\n",
            "Epoch 28/100\n",
            "125/125 [==============================] - 4s 35ms/step - loss: 0.5205 - acc: 0.1882 - val_loss: 0.6897 - val_acc: 0.1868\n",
            "Epoch 29/100\n",
            "125/125 [==============================] - 4s 35ms/step - loss: 0.5124 - acc: 0.1889 - val_loss: 0.6581 - val_acc: 0.1950\n",
            "Epoch 30/100\n",
            "125/125 [==============================] - 4s 34ms/step - loss: 0.5064 - acc: 0.1892 - val_loss: 0.6616 - val_acc: 0.1913\n",
            "Epoch 31/100\n",
            "125/125 [==============================] - 4s 34ms/step - loss: 0.5078 - acc: 0.1912 - val_loss: 0.6585 - val_acc: 0.1934\n",
            "Epoch 32/100\n",
            "125/125 [==============================] - 4s 35ms/step - loss: 0.4976 - acc: 0.1915 - val_loss: 0.6476 - val_acc: 0.1957\n",
            "Epoch 33/100\n",
            "125/125 [==============================] - 4s 35ms/step - loss: 0.4955 - acc: 0.1953 - val_loss: 0.6473 - val_acc: 0.1953\n",
            "Epoch 34/100\n",
            "125/125 [==============================] - 4s 35ms/step - loss: 0.4865 - acc: 0.1953 - val_loss: 0.6538 - val_acc: 0.1947\n",
            "Epoch 35/100\n",
            "125/125 [==============================] - 4s 34ms/step - loss: 0.4866 - acc: 0.1945 - val_loss: 0.6415 - val_acc: 0.1953\n",
            "Epoch 36/100\n",
            "125/125 [==============================] - 4s 35ms/step - loss: 0.4812 - acc: 0.1976 - val_loss: 0.6410 - val_acc: 0.1974\n",
            "Epoch 37/100\n",
            "125/125 [==============================] - 4s 35ms/step - loss: 0.4772 - acc: 0.1996 - val_loss: 0.6794 - val_acc: 0.1854\n",
            "Epoch 38/100\n",
            "125/125 [==============================] - 4s 35ms/step - loss: 0.4711 - acc: 0.1964 - val_loss: 0.6446 - val_acc: 0.1950\n",
            "Epoch 39/100\n",
            "125/125 [==============================] - 4s 34ms/step - loss: 0.4729 - acc: 0.1994 - val_loss: 0.6289 - val_acc: 0.2002\n",
            "Epoch 40/100\n",
            "125/125 [==============================] - 4s 35ms/step - loss: 0.4675 - acc: 0.2018 - val_loss: 0.6273 - val_acc: 0.2013\n",
            "Epoch 41/100\n",
            "125/125 [==============================] - 4s 35ms/step - loss: 0.4639 - acc: 0.2019 - val_loss: 0.6303 - val_acc: 0.2003\n",
            "Epoch 42/100\n",
            "125/125 [==============================] - 4s 35ms/step - loss: 0.4642 - acc: 0.2039 - val_loss: 0.6221 - val_acc: 0.2016\n",
            "Epoch 43/100\n",
            "125/125 [==============================] - 4s 35ms/step - loss: 0.4580 - acc: 0.2041 - val_loss: 0.6293 - val_acc: 0.2001\n",
            "Epoch 44/100\n",
            "125/125 [==============================] - 4s 35ms/step - loss: 0.4529 - acc: 0.2045 - val_loss: 0.6152 - val_acc: 0.2046\n",
            "Epoch 45/100\n",
            "125/125 [==============================] - 4s 35ms/step - loss: 0.4506 - acc: 0.2062 - val_loss: 0.6153 - val_acc: 0.2043\n",
            "Epoch 46/100\n",
            "125/125 [==============================] - 4s 35ms/step - loss: 0.4492 - acc: 0.2069 - val_loss: 0.6180 - val_acc: 0.2029\n",
            "Epoch 47/100\n",
            "125/125 [==============================] - 4s 35ms/step - loss: 0.4445 - acc: 0.2066 - val_loss: 0.6147 - val_acc: 0.2042\n",
            "Epoch 48/100\n",
            "125/125 [==============================] - 4s 35ms/step - loss: 0.4395 - acc: 0.2094 - val_loss: 0.6220 - val_acc: 0.2016\n",
            "Epoch 49/100\n",
            "125/125 [==============================] - 4s 35ms/step - loss: 0.4387 - acc: 0.2090 - val_loss: 0.6091 - val_acc: 0.2052\n",
            "Epoch 50/100\n",
            "125/125 [==============================] - 4s 35ms/step - loss: 0.4374 - acc: 0.2111 - val_loss: 0.6109 - val_acc: 0.2061\n",
            "Epoch 51/100\n",
            "125/125 [==============================] - 4s 35ms/step - loss: 0.4332 - acc: 0.2111 - val_loss: 0.6078 - val_acc: 0.2066\n",
            "Epoch 52/100\n",
            "125/125 [==============================] - 4s 35ms/step - loss: 0.4318 - acc: 0.2124 - val_loss: 0.6219 - val_acc: 0.2025\n",
            "Epoch 53/100\n",
            "125/125 [==============================] - 4s 35ms/step - loss: 0.4291 - acc: 0.2117 - val_loss: 0.6267 - val_acc: 0.2007\n",
            "Epoch 54/100\n",
            "125/125 [==============================] - 4s 35ms/step - loss: 0.4305 - acc: 0.2145 - val_loss: 0.6115 - val_acc: 0.2049\n",
            "Epoch 55/100\n",
            "125/125 [==============================] - 4s 35ms/step - loss: 0.4249 - acc: 0.2150 - val_loss: 0.6094 - val_acc: 0.2049\n",
            "Epoch 56/100\n",
            "125/125 [==============================] - 4s 35ms/step - loss: 0.4239 - acc: 0.2143 - val_loss: 0.5982 - val_acc: 0.2096\n",
            "Epoch 57/100\n",
            "125/125 [==============================] - 4s 35ms/step - loss: 0.4206 - acc: 0.2155 - val_loss: 0.6093 - val_acc: 0.2054\n",
            "Epoch 58/100\n",
            "125/125 [==============================] - 4s 35ms/step - loss: 0.4174 - acc: 0.2145 - val_loss: 0.5944 - val_acc: 0.2106\n",
            "Epoch 59/100\n",
            "125/125 [==============================] - 4s 35ms/step - loss: 0.4163 - acc: 0.2165 - val_loss: 0.6263 - val_acc: 0.2000\n",
            "Epoch 60/100\n",
            "125/125 [==============================] - 4s 35ms/step - loss: 0.4172 - acc: 0.2165 - val_loss: 0.6014 - val_acc: 0.2075\n",
            "Epoch 61/100\n",
            "125/125 [==============================] - 4s 35ms/step - loss: 0.4155 - acc: 0.2171 - val_loss: 0.6039 - val_acc: 0.2074\n",
            "Epoch 62/100\n",
            "125/125 [==============================] - 4s 35ms/step - loss: 0.4125 - acc: 0.2182 - val_loss: 0.6002 - val_acc: 0.2078\n",
            "Epoch 63/100\n",
            "125/125 [==============================] - 4s 35ms/step - loss: 0.4092 - acc: 0.2191 - val_loss: 0.6012 - val_acc: 0.2072\n",
            "Epoch 64/100\n",
            "125/125 [==============================] - 4s 35ms/step - loss: 0.4069 - acc: 0.2194 - val_loss: 0.5982 - val_acc: 0.2078\n",
            "Epoch 65/100\n",
            "125/125 [==============================] - 4s 35ms/step - loss: 0.4064 - acc: 0.2205 - val_loss: 0.5969 - val_acc: 0.2089\n",
            "Epoch 66/100\n",
            "125/125 [==============================] - 4s 36ms/step - loss: 0.4054 - acc: 0.2203 - val_loss: 0.6020 - val_acc: 0.2078\n",
            "Epoch 67/100\n",
            "125/125 [==============================] - 4s 34ms/step - loss: 0.4023 - acc: 0.2209 - val_loss: 0.5934 - val_acc: 0.2089\n",
            "Epoch 68/100\n",
            "125/125 [==============================] - 4s 35ms/step - loss: 0.3988 - acc: 0.2195 - val_loss: 0.5926 - val_acc: 0.2095\n",
            "Epoch 69/100\n",
            "125/125 [==============================] - 4s 35ms/step - loss: 0.3947 - acc: 0.2203 - val_loss: 0.5925 - val_acc: 0.2092\n",
            "Epoch 70/100\n",
            "125/125 [==============================] - 4s 34ms/step - loss: 0.3975 - acc: 0.2209 - val_loss: 0.6020 - val_acc: 0.2076\n",
            "Epoch 71/100\n",
            "125/125 [==============================] - 4s 35ms/step - loss: 0.3968 - acc: 0.2215 - val_loss: 0.6095 - val_acc: 0.2037\n",
            "Epoch 72/100\n",
            "125/125 [==============================] - 4s 35ms/step - loss: 0.3932 - acc: 0.2218 - val_loss: 0.5901 - val_acc: 0.2105\n",
            "Epoch 73/100\n",
            "125/125 [==============================] - 4s 35ms/step - loss: 0.3916 - acc: 0.2229 - val_loss: 0.5984 - val_acc: 0.2088\n",
            "Epoch 74/100\n",
            "125/125 [==============================] - 4s 35ms/step - loss: 0.3907 - acc: 0.2242 - val_loss: 0.5940 - val_acc: 0.2093\n",
            "Epoch 75/100\n",
            "125/125 [==============================] - 4s 35ms/step - loss: 0.3899 - acc: 0.2242 - val_loss: 0.6044 - val_acc: 0.2053\n",
            "Epoch 76/100\n",
            "125/125 [==============================] - 4s 34ms/step - loss: 0.3882 - acc: 0.2233 - val_loss: 0.5885 - val_acc: 0.2105\n",
            "Epoch 77/100\n",
            "125/125 [==============================] - 4s 35ms/step - loss: 0.3914 - acc: 0.2260 - val_loss: 0.5925 - val_acc: 0.2087\n",
            "Epoch 78/100\n",
            "125/125 [==============================] - 4s 35ms/step - loss: 0.3816 - acc: 0.2243 - val_loss: 0.5967 - val_acc: 0.2075\n",
            "Epoch 79/100\n",
            "125/125 [==============================] - 4s 35ms/step - loss: 0.3863 - acc: 0.2252 - val_loss: 0.5954 - val_acc: 0.2090\n",
            "Epoch 80/100\n",
            "125/125 [==============================] - 4s 35ms/step - loss: 0.3844 - acc: 0.2257 - val_loss: 0.5819 - val_acc: 0.2127\n",
            "Epoch 81/100\n",
            "125/125 [==============================] - 4s 35ms/step - loss: 0.3827 - acc: 0.2266 - val_loss: 0.5950 - val_acc: 0.2081\n",
            "Epoch 82/100\n",
            "125/125 [==============================] - 4s 35ms/step - loss: 0.3826 - acc: 0.2263 - val_loss: 0.5912 - val_acc: 0.2088\n",
            "Epoch 83/100\n",
            "125/125 [==============================] - 4s 35ms/step - loss: 0.3807 - acc: 0.2278 - val_loss: 0.5997 - val_acc: 0.2068\n",
            "Epoch 84/100\n",
            "125/125 [==============================] - 4s 35ms/step - loss: 0.3789 - acc: 0.2277 - val_loss: 0.5900 - val_acc: 0.2090\n",
            "Epoch 85/100\n",
            "125/125 [==============================] - 4s 35ms/step - loss: 0.3768 - acc: 0.2282 - val_loss: 0.5910 - val_acc: 0.2095\n",
            "Epoch 86/100\n",
            "125/125 [==============================] - 4s 35ms/step - loss: 0.3776 - acc: 0.2282 - val_loss: 0.5840 - val_acc: 0.2120\n",
            "Epoch 87/100\n",
            "125/125 [==============================] - 4s 35ms/step - loss: 0.3734 - acc: 0.2293 - val_loss: 0.5998 - val_acc: 0.2068\n",
            "Epoch 88/100\n",
            "125/125 [==============================] - 4s 35ms/step - loss: 0.3719 - acc: 0.2285 - val_loss: 0.5861 - val_acc: 0.2107\n",
            "Epoch 89/100\n",
            "125/125 [==============================] - 4s 35ms/step - loss: 0.3709 - acc: 0.2304 - val_loss: 0.5832 - val_acc: 0.2123\n",
            "Epoch 90/100\n",
            "125/125 [==============================] - 4s 35ms/step - loss: 0.3725 - acc: 0.2294 - val_loss: 0.5913 - val_acc: 0.2093\n",
            "Epoch 91/100\n",
            "125/125 [==============================] - 4s 35ms/step - loss: 0.3711 - acc: 0.2297 - val_loss: 0.5832 - val_acc: 0.2113\n",
            "Epoch 92/100\n",
            "125/125 [==============================] - 4s 35ms/step - loss: 0.3666 - acc: 0.2295 - val_loss: 0.5834 - val_acc: 0.2123\n",
            "Epoch 93/100\n",
            "125/125 [==============================] - 4s 35ms/step - loss: 0.3684 - acc: 0.2304 - val_loss: 0.5805 - val_acc: 0.2121\n",
            "Epoch 94/100\n",
            "125/125 [==============================] - 4s 35ms/step - loss: 0.3663 - acc: 0.2302 - val_loss: 0.5906 - val_acc: 0.2077\n",
            "Epoch 95/100\n",
            "125/125 [==============================] - 4s 35ms/step - loss: 0.3638 - acc: 0.2303 - val_loss: 0.5945 - val_acc: 0.2083\n",
            "Epoch 96/100\n",
            "125/125 [==============================] - 4s 35ms/step - loss: 0.3671 - acc: 0.2301 - val_loss: 0.5822 - val_acc: 0.2121\n",
            "Epoch 97/100\n",
            "125/125 [==============================] - 4s 35ms/step - loss: 0.3644 - acc: 0.2311 - val_loss: 0.5990 - val_acc: 0.2067\n",
            "Epoch 98/100\n",
            "125/125 [==============================] - 4s 35ms/step - loss: 0.3646 - acc: 0.2312 - val_loss: 0.5850 - val_acc: 0.2108\n",
            "Epoch 99/100\n",
            "125/125 [==============================] - 4s 35ms/step - loss: 0.3590 - acc: 0.2330 - val_loss: 0.5755 - val_acc: 0.2134\n",
            "Epoch 100/100\n",
            "125/125 [==============================] - 4s 35ms/step - loss: 0.3590 - acc: 0.2342 - val_loss: 0.5744 - val_acc: 0.2140\n"
          ],
          "name": "stdout"
        }
      ]
    },
    {
      "cell_type": "code",
      "metadata": {
        "id": "zmQXw0_21_jx"
      },
      "source": [
        "model.save('eng_fra_model_colab.h5')"
      ],
      "execution_count": 84,
      "outputs": []
    },
    {
      "cell_type": "code",
      "metadata": {
        "id": "Z9RRbafX4epT"
      },
      "source": [
        "! cp eng_fra_model_colab.h5 /content/drive/MyDrive/"
      ],
      "execution_count": 85,
      "outputs": []
    },
    {
      "cell_type": "code",
      "metadata": {
        "id": "Nawnx6zVEw8X"
      },
      "source": [
        ""
      ],
      "execution_count": null,
      "outputs": []
    },
    {
      "cell_type": "code",
      "metadata": {
        "colab": {
          "base_uri": "https://localhost:8080/",
          "height": 282
        },
        "id": "z3eV5btt1_jz",
        "outputId": "8ebc1b5c-f9e5-4781-d89d-54bfbe284c5f"
      },
      "source": [
        "plt.plot(h.history['loss'], 'b-')\n",
        "plt.plot(h.history['val_loss'], 'r-')\n",
        "plt.legend(['loss','val_loss'])"
      ],
      "execution_count": 70,
      "outputs": [
        {
          "output_type": "execute_result",
          "data": {
            "text/plain": [
              "<matplotlib.legend.Legend at 0x7fd0b1794c50>"
            ]
          },
          "metadata": {
            "tags": []
          },
          "execution_count": 70
        },
        {
          "output_type": "display_data",
          "data": {
            "image/png": "[encoded data removed]",
            "text/plain": [
              "<Figure size 432x288 with 1 Axes>"
            ]
          },
          "metadata": {
            "tags": [],
            "needs_background": "light"
          }
        }
      ]
    },
    {
      "cell_type": "code",
      "metadata": {
        "colab": {
          "base_uri": "https://localhost:8080/",
          "height": 282
        },
        "id": "6L8cD_vI6U2s",
        "outputId": "48cd570a-c781-4ca3-9bd7-375e3e952a9a"
      },
      "source": [
        "plt.plot(h.history['acc'], 'b-')\n",
        "plt.plot(h.history['val_acc'], 'r-')\n",
        "plt.legend(['acc','val_acc'])"
      ],
      "execution_count": 71,
      "outputs": [
        {
          "output_type": "execute_result",
          "data": {
            "text/plain": [
              "<matplotlib.legend.Legend at 0x7fd0b35e4ed0>"
            ]
          },
          "metadata": {
            "tags": []
          },
          "execution_count": 71
        },
        {
          "output_type": "display_data",
          "data": {
            "image/png": "[encoded data removed]",
            "text/plain": [
              "<Figure size 432x288 with 1 Axes>"
            ]
          },
          "metadata": {
            "tags": [],
            "needs_background": "light"
          }
        }
      ]
    },
    {
      "cell_type": "markdown",
      "metadata": {
        "id": "1r608Xi31_kh"
      },
      "source": [
        "### 번역 실행"
      ]
    },
    {
      "cell_type": "code",
      "metadata": {
        "id": "z8ZlNX6B1_kj"
      },
      "source": [
        "enc_model = Model(enc_input, enc_states)"
      ],
      "execution_count": 72,
      "outputs": []
    },
    {
      "cell_type": "code",
      "metadata": {
        "id": "tZuUUBxvChsM"
      },
      "source": [
        ""
      ],
      "execution_count": 72,
      "outputs": []
    },
    {
      "cell_type": "code",
      "metadata": {
        "id": "_0ePkwfS1_kk"
      },
      "source": [
        "dec_input_h = Input(shape=(256,))\n",
        "dec_input_c = Input(shape=(256,))\n",
        "dec_states_input = [dec_input_h, dec_input_c]"
      ],
      "execution_count": 73,
      "outputs": []
    },
    {
      "cell_type": "code",
      "metadata": {
        "id": "9NQlkwcq1_kn"
      },
      "source": [
        "dec_outputs, dec_h, dec_c = dec_lstm(dec_input, initial_state=dec_states_input)\n",
        "dec_states = [dec_h, dec_c]\n",
        "\n",
        "dec_outputs2 = dec_dense(dec_outputs)\n",
        "\n",
        "dec_model = Model([dec_input] + dec_states_input, [dec_outputs2] + dec_states)"
      ],
      "execution_count": 74,
      "outputs": []
    },
    {
      "cell_type": "markdown",
      "metadata": {
        "id": "2djp1-wI1_kp"
      },
      "source": [
        "### 출력 테스트"
      ]
    },
    {
      "cell_type": "code",
      "metadata": {
        "id": "Ormvf9hU1_lT"
      },
      "source": [
        "def decode_sequence(seq):\n",
        "    states_value = enc_model.predict(seq)\n",
        "    \n",
        "    output_seq = np.zeros([1,1,94]) # 94 는 불어사전 문자수\n",
        "    output_seq[0,0,output_chars.index('\\t')] = 1 # 첫번째 입력문자를 '\\t' 로 설정\n",
        "    \n",
        "    stop = False\n",
        "    result = ''\n",
        "    \n",
        "    while not stop:\n",
        "        output_tokens, h, c = dec_model.predict([output_seq] + states_value)\n",
        "        result += output_chars[np.argmax(output_tokens[0,-1,:])]\n",
        "        \n",
        "        if (result[-1]=='\\n' or len(result)>=59): # 59는 불어 문장 최대 길이\n",
        "            stop = True\n",
        "            \n",
        "        output_seq = np.zeros([1,1,94]) # 94 는 불어사전 문자수\n",
        "        output_seq[0,0,np.argmax(output_tokens[0,-1])] = 1\n",
        "        states_value = [h,c]\n",
        "        \n",
        "    return result"
      ],
      "execution_count": 75,
      "outputs": []
    },
    {
      "cell_type": "code",
      "metadata": {
        "colab": {
          "base_uri": "https://localhost:8080/"
        },
        "id": "9CfXkYQt1_lh",
        "outputId": "893cae19-e990-43f8-d0f1-adb5093133c4"
      },
      "source": [
        "for i in range(2):\n",
        "    seq = enc_in_data[5000+i:5000+i+1]\n",
        "    result = decode_sequence(seq)\n",
        "    \n",
        "    print('################################')\n",
        "    print(input_texts[5000+i])\n",
        "    print('=>')\n",
        "    print(result)"
      ],
      "execution_count": 76,
      "outputs": [
        {
          "output_type": "stream",
          "text": [
            "################################\n",
            "I hate flying.\n",
            "=>\n",
            "Je déteste le chante.\n",
            "\n",
            "################################\n",
            "I hate losing.\n",
            "=>\n",
            "Je déteste le chante.\n",
            "\n"
          ],
          "name": "stdout"
        }
      ]
    },
    {
      "cell_type": "code",
      "metadata": {
        "colab": {
          "base_uri": "https://localhost:8080/"
        },
        "id": "SX7PtOqm1_lk",
        "outputId": "72dcaf78-1a56-4cf4-dde0-bdb38acc7879"
      },
      "source": [
        "start = 7000\n",
        "for i in range(3):\n",
        "    seq = enc_in_data[start+i:start+i+1]\n",
        "    result = decode_sequence(seq)\n",
        "    \n",
        "    print('################################')\n",
        "    print(input_texts[start+i])\n",
        "    print(output_texts[start+i][1:-1])\n",
        "    print('=>')\n",
        "    #print('[%s]' % result.replace(' ','_'))\n",
        "    print('[%s]' % result)"
      ],
      "execution_count": 77,
      "outputs": [
        {
          "output_type": "stream",
          "text": [
            "################################\n",
            "He's too drunk.\n",
            "Il est trop ivre.\n",
            "=>\n",
            "[Il est trop contente.\n",
            "]\n",
            "################################\n",
            "He's very open.\n",
            "Il est très ouvert.\n",
            "=>\n",
            "[Il est trap contrais !\n",
            "]\n",
            "################################\n",
            "Hello everyone!\n",
            "Salut tout le monde !\n",
            "=>\n",
            "[Salut teu de la mais !\n",
            "]\n"
          ],
          "name": "stdout"
        }
      ]
    },
    {
      "cell_type": "markdown",
      "metadata": {
        "id": "ndgWHV3j1_ln"
      },
      "source": [
        "### 새로운 문장으로 테스트"
      ]
    },
    {
      "cell_type": "code",
      "metadata": {
        "colab": {
          "base_uri": "https://localhost:8080/",
          "height": 72
        },
        "id": "FOSRZvF21_lo",
        "outputId": "9893fc8e-fd01-4d6b-b447-222e92c4e956"
      },
      "source": [
        "#s1, s2 = lines[10010].strip().split('\\t')\n",
        "s1 = 'I want to go home.'\n",
        "s2 = ''\n",
        "v = [input_chars.index(c) for c in s1]\n",
        "\n",
        "a = np.zeros([1,30,71])\n",
        "for i in range(len(v)):\n",
        "    a[0,i,v[i]] = 1\n",
        "    \n",
        "r = decode_sequence(a)\n",
        "display(s1, s2, r[:-1])"
      ],
      "execution_count": 83,
      "outputs": [
        {
          "output_type": "display_data",
          "data": {
            "application/vnd.google.colaboratory.intrinsic+json": {
              "type": "string"
            },
            "text/plain": [
              "'I want to go home.'"
            ]
          },
          "metadata": {
            "tags": []
          }
        },
        {
          "output_type": "display_data",
          "data": {
            "application/vnd.google.colaboratory.intrinsic+json": {
              "type": "string"
            },
            "text/plain": [
              "''"
            ]
          },
          "metadata": {
            "tags": []
          }
        },
        {
          "output_type": "display_data",
          "data": {
            "application/vnd.google.colaboratory.intrinsic+json": {
              "type": "string"
            },
            "text/plain": [
              "'Je ve tendisse.'"
            ]
          },
          "metadata": {
            "tags": []
          }
        }
      ]
    }
  ]
}