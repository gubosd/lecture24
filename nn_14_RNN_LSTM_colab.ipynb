{
 "cells": [
  {
   "cell_type": "markdown",
   "metadata": {
    "id": "GHekUyIJw5uM"
   },
   "source": [
    "## 자연어 처리 딥러닝\n",
    "# RNN (순환신경망) 과 LSTM"
   ]
  },
  {
   "cell_type": "markdown",
   "metadata": {
    "id": "ZIv4Y2_iw5uV"
   },
   "source": [
    "- 연속된 데이터 묶음을 처리한다.\n",
    "- 하나의 데이터 묶음은 순서를 가진다. (앞과 뒤를 구분)\n",
    "- 이러한 데이터 묶음을 시퀀스(Sequence) 또는 시계열데이터 라고 한다.\n",
    "- 연속된 단어들로 이루어진 문장, 몇일 간의 종가로 이루어진 주식 가격 등\n",
    "- RNN : Recurrent Neural Network"
   ]
  },
  {
   "cell_type": "markdown",
   "metadata": {
    "id": "jlo_2F2Xw5uZ"
   },
   "source": [
    "<img src='rnn.jpg' />"
   ]
  },
  {
   "cell_type": "code",
   "execution_count": 1,
   "metadata": {
    "id": "1c-ifl_lw5ub"
   },
   "outputs": [],
   "source": [
    "import numpy as np\n",
    "import matplotlib.pyplot as plt"
   ]
  },
  {
   "cell_type": "code",
   "execution_count": 2,
   "metadata": {
    "id": "r1QxjETww5ud"
   },
   "outputs": [],
   "source": [
    "import tensorflow as tf\n",
    "from tensorflow import keras"
   ]
  },
  {
   "cell_type": "markdown",
   "metadata": {
    "id": "q8s5jz8hw5uf"
   },
   "source": [
    "### Imdb 불러오기"
   ]
  },
  {
   "cell_type": "code",
   "execution_count": 3,
   "metadata": {
    "id": "j6RRv_x8w5ug"
   },
   "outputs": [],
   "source": [
    "from tensorflow.keras.datasets import imdb"
   ]
  },
  {
   "cell_type": "code",
   "execution_count": 4,
   "metadata": {
    "colab": {
     "base_uri": "https://localhost:8080/"
    },
    "id": "YqHU07hNw5ui",
    "outputId": "9aeaac9a-3af3-4c7f-ea9e-74a919aeaf40"
   },
   "outputs": [
    {
     "name": "stdout",
     "output_type": "stream",
     "text": [
      "Downloading data from https://storage.googleapis.com/tensorflow/tf-keras-datasets/imdb.npz\n",
      "17465344/17464789 [==============================] - 0s 0us/step\n"
     ]
    },
    {
     "name": "stderr",
     "output_type": "stream",
     "text": [
      "<string>:6: VisibleDeprecationWarning: Creating an ndarray from ragged nested sequences (which is a list-or-tuple of lists-or-tuples-or ndarrays with different lengths or shapes) is deprecated. If you meant to do this, you must specify 'dtype=object' when creating the ndarray\n",
      "/usr/local/lib/python3.7/dist-packages/tensorflow/python/keras/datasets/imdb.py:159: VisibleDeprecationWarning: Creating an ndarray from ragged nested sequences (which is a list-or-tuple of lists-or-tuples-or ndarrays with different lengths or shapes) is deprecated. If you meant to do this, you must specify 'dtype=object' when creating the ndarray\n",
      "  x_train, y_train = np.array(xs[:idx]), np.array(labels[:idx])\n",
      "/usr/local/lib/python3.7/dist-packages/tensorflow/python/keras/datasets/imdb.py:160: VisibleDeprecationWarning: Creating an ndarray from ragged nested sequences (which is a list-or-tuple of lists-or-tuples-or ndarrays with different lengths or shapes) is deprecated. If you meant to do this, you must specify 'dtype=object' when creating the ndarray\n",
      "  x_test, y_test = np.array(xs[idx:]), np.array(labels[idx:])\n"
     ]
    }
   ],
   "source": [
    "(X_train, y_train), (X_test, y_test) = imdb.load_data(num_words=10000)"
   ]
  },
  {
   "cell_type": "code",
   "execution_count": null,
   "metadata": {
    "id": "7Y2oLCpIw5ul",
    "outputId": "06d82716-510f-4d7b-d653-d49fcca439e7"
   },
   "outputs": [
    {
     "data": {
      "text/plain": [
       "((25000,), (25000,), (25000,), (25000,))"
      ]
     },
     "execution_count": 6,
     "metadata": {
      "tags": []
     },
     "output_type": "execute_result"
    }
   ],
   "source": [
    "X_train.shape, y_train.shape, X_test.shape, y_test.shape"
   ]
  },
  {
   "cell_type": "code",
   "execution_count": 5,
   "metadata": {
    "colab": {
     "base_uri": "https://localhost:8080/"
    },
    "id": "p5bYS-uNw5un",
    "outputId": "c0b1c754-6aa7-4df9-96a7-95ee2344a59c"
   },
   "outputs": [
    {
     "name": "stdout",
     "output_type": "stream",
     "text": [
      "Downloading data from https://storage.googleapis.com/tensorflow/tf-keras-datasets/imdb_word_index.json\n",
      "1646592/1641221 [==============================] - 0s 0us/step\n"
     ]
    },
    {
     "data": {
      "text/plain": [
       "88584"
      ]
     },
     "execution_count": 5,
     "metadata": {
      "tags": []
     },
     "output_type": "execute_result"
    }
   ],
   "source": [
    "w2i = imdb.get_word_index()\n",
    "len(w2i)"
   ]
  },
  {
   "cell_type": "markdown",
   "metadata": {
    "id": "bHvk4xa1w5up"
   },
   "source": [
    "### 문장의 단어수를 500개로 제한"
   ]
  },
  {
   "cell_type": "code",
   "execution_count": null,
   "metadata": {
    "id": "yWzPmOvVw5uq",
    "outputId": "fac723e6-f81c-46a4-ce8e-214e6ec46956"
   },
   "outputs": [
    {
     "data": {
      "image/png": "[encoded data removed]",
      "text/plain": [
       "<Figure size 432x288 with 1 Axes>"
      ]
     },
     "metadata": {
      "needs_background": "light",
      "tags": []
     },
     "output_type": "display_data"
    }
   ],
   "source": [
    "doc_len = [len(x) for x in X_train]\n",
    "plt.hist(doc_len, bins=50)\n",
    "pass"
   ]
  },
  {
   "cell_type": "code",
   "execution_count": 6,
   "metadata": {
    "id": "r-EEpEGdw5us"
   },
   "outputs": [],
   "source": [
    "from tensorflow.keras.preprocessing import sequence\n",
    "\n",
    "X_train = sequence.pad_sequences(X_train, maxlen=500) # 문장당 단어수가 500개를 넘기면 앞부분을 자른다\n",
    "X_test = sequence.pad_sequences(X_test, maxlen=500)"
   ]
  },
  {
   "cell_type": "markdown",
   "metadata": {
    "id": "pO19TP1Zw5ut"
   },
   "source": [
    "- 문장의 뒤에서 단어 500개를 가져온다.\n",
    "- 문장이 짧은 경우 앞부분을 0 으로 채운다."
   ]
  },
  {
   "cell_type": "markdown",
   "metadata": {
    "id": "ZRxGdh74w5uv"
   },
   "source": [
    "### Sequence 개념\n",
    "- 한 문장은 순차적인 단어들로 이루어져 있다.\n",
    "- 이러한 연속적인 단어들로 이루어진 문장과 같은 것을 Sequence 라고 한다.\n",
    "- Sequence 의 한 항목은 복수의 속성값을 가질 수 있다.\n",
    "> 한 문장 : [1,31,27,5]<br>\n",
    "> 한 단어 : 31 => [0,0,...,1,...,0,0]"
   ]
  },
  {
   "cell_type": "markdown",
   "metadata": {
    "id": "t6Kd7pzpw5uw"
   },
   "source": [
    "### SimpleRNN 적용"
   ]
  },
  {
   "cell_type": "markdown",
   "metadata": {
    "id": "soLNpDtrw5ux"
   },
   "source": [
    "<img src='rnn2.jpg' />"
   ]
  },
  {
   "cell_type": "markdown",
   "metadata": {
    "id": "qY3-AVTxw5uy"
   },
   "source": [
    "- SimpleRNN 의 디폴트 activation 은 'tanh' 이다"
   ]
  },
  {
   "cell_type": "code",
   "execution_count": 7,
   "metadata": {
    "id": "4lYDJYL_w5u0"
   },
   "outputs": [],
   "source": [
    "from tensorflow.keras.models import Sequential\n",
    "from tensorflow.keras.layers import Embedding, SimpleRNN, Dense"
   ]
  },
  {
   "cell_type": "code",
   "execution_count": null,
   "metadata": {
    "id": "CNXjVqkRw5u1"
   },
   "outputs": [],
   "source": [
    "model = Sequential()\n",
    "model.add(Embedding(10000, 32, input_length=500))\n",
    "model.add(SimpleRNN(64))\n",
    "model.add(Dense(1, activation='sigmoid'))"
   ]
  },
  {
   "cell_type": "code",
   "execution_count": null,
   "metadata": {
    "id": "mQRpnKoiw5u2",
    "outputId": "edef82b4-97be-4507-eb65-ce81ebd85a7a"
   },
   "outputs": [
    {
     "name": "stdout",
     "output_type": "stream",
     "text": [
      "Model: \"sequential\"\n",
      "_________________________________________________________________\n",
      "Layer (type)                 Output Shape              Param #   \n",
      "=================================================================\n",
      "embedding (Embedding)        (None, 500, 32)           320000    \n",
      "_________________________________________________________________\n",
      "simple_rnn (SimpleRNN)       (None, 64)                6208      \n",
      "_________________________________________________________________\n",
      "dense (Dense)                (None, 1)                 65        \n",
      "=================================================================\n",
      "Total params: 326,273\n",
      "Trainable params: 326,273\n",
      "Non-trainable params: 0\n",
      "_________________________________________________________________\n"
     ]
    }
   ],
   "source": [
    "model.summary()"
   ]
  },
  {
   "cell_type": "code",
   "execution_count": null,
   "metadata": {
    "id": "ipkOrR_bw5u3",
    "outputId": "ba7097eb-d294-4a58-ff05-91a6fbe200fd"
   },
   "outputs": [
    {
     "data": {
      "text/plain": [
       "6208"
      ]
     },
     "execution_count": 13,
     "metadata": {
      "tags": []
     },
     "output_type": "execute_result"
    }
   ],
   "source": [
    "32*64 + 64*64 + 64 # SimpleRNN 가중치 수"
   ]
  },
  {
   "cell_type": "markdown",
   "metadata": {
    "id": "-Ppg98JNw5u5"
   },
   "source": [
    "### 모델 설명\n",
    "- Embedding 은 단어번호들을 입력으로 받는다.\n",
    "> 10000 => 단어집의 총 단어수<br>\n",
    "> 32 => 10000 차원을 32 차원으로 줄임<br>\n",
    "> 500 => 한 문장에 속하는 단어수<br>\n",
    "> (None,500) => (None,500,10000) => (None,500,32)\n",
    "- SimpleRNN 은 연속된 단어들(Sequence)를 입력받는다.\n",
    "> . (None,500,32) => (None,64)<br>\n",
    "> . SimpleRNN(64) 에서 64는 출력 차원을 의미한다."
   ]
  },
  {
   "cell_type": "code",
   "execution_count": null,
   "metadata": {
    "id": "hcUxuPzuw5u6",
    "outputId": "ea73a837-b257-41dd-b0f0-6e5884971833"
   },
   "outputs": [
    {
     "name": "stdout",
     "output_type": "stream",
     "text": [
      "Epoch 1/2\n",
      "157/157 [==============================] - 124s 757ms/step - loss: 0.6905 - acc: 0.5220 - val_loss: 0.6208 - val_acc: 0.6380\n",
      "Epoch 2/2\n",
      "157/157 [==============================] - 122s 780ms/step - loss: 0.4943 - acc: 0.7680 - val_loss: 0.3934 - val_acc: 0.8358\n"
     ]
    }
   ],
   "source": [
    "model.compile(loss='binary_crossentropy', optimizer='adam', metrics=['acc'])\n",
    "history = model.fit(X_train, y_train, epochs=2, batch_size=128, validation_split=0.2)"
   ]
  },
  {
   "cell_type": "code",
   "execution_count": null,
   "metadata": {
    "id": "69OFYk0dw5u7",
    "outputId": "f3861844-3e8c-4cdc-d2c5-e2b2e902d9da"
   },
   "outputs": [
    {
     "name": "stdout",
     "output_type": "stream",
     "text": [
      "Train on 20000 samples, validate on 5000 samples\n",
      "Epoch 1/10\n",
      "20000/20000 [==============================] - 71s 4ms/step - loss: 0.6311 - acc: 0.6263 - val_loss: 0.5021 - val_acc: 0.7686\n",
      "Epoch 2/10\n",
      "20000/20000 [==============================] - 68s 3ms/step - loss: 0.4182 - acc: 0.8234 - val_loss: 0.3807 - val_acc: 0.8410\n",
      "Epoch 3/10\n",
      "20000/20000 [==============================] - 67s 3ms/step - loss: 0.3237 - acc: 0.8704 - val_loss: 0.4322 - val_acc: 0.8038\n",
      "Epoch 4/10\n",
      "20000/20000 [==============================] - 67s 3ms/step - loss: 0.2570 - acc: 0.8994 - val_loss: 0.3640 - val_acc: 0.8418\n",
      "Epoch 5/10\n",
      "20000/20000 [==============================] - 66s 3ms/step - loss: 0.2028 - acc: 0.9220 - val_loss: 0.4107 - val_acc: 0.8530\n",
      "Epoch 6/10\n",
      "20000/20000 [==============================] - 67s 3ms/step - loss: 0.1394 - acc: 0.9508 - val_loss: 0.3834 - val_acc: 0.8562\n",
      "Epoch 7/10\n",
      "20000/20000 [==============================] - 66s 3ms/step - loss: 0.0932 - acc: 0.9688 - val_loss: 0.4231 - val_acc: 0.8652\n",
      "Epoch 8/10\n",
      "20000/20000 [==============================] - 66s 3ms/step - loss: 0.0606 - acc: 0.9801 - val_loss: 0.5955 - val_acc: 0.7812\n",
      "Epoch 9/10\n",
      "20000/20000 [==============================] - 66s 3ms/step - loss: 0.0368 - acc: 0.9887 - val_loss: 0.6321 - val_acc: 0.7952\n",
      "Epoch 10/10\n",
      "20000/20000 [==============================] - 67s 3ms/step - loss: 0.0287 - acc: 0.9914 - val_loss: 0.5885 - val_acc: 0.8364\n"
     ]
    }
   ],
   "source": [
    "model.compile(loss='binary_crossentropy', optimizer='adam', metrics=['acc'])\n",
    "history = model.fit(X_train, y_train, epochs=10, batch_size=128, validation_split=0.2)"
   ]
  },
  {
   "cell_type": "code",
   "execution_count": null,
   "metadata": {
    "id": "vxcER85-w5u9",
    "outputId": "9a71b03a-c219-431b-cd1b-4f46cd714497"
   },
   "outputs": [
    {
     "data": {
      "text/plain": [
       "Text(6,0.87,'val_acc_max = 0.8652')"
      ]
     },
     "execution_count": 15,
     "metadata": {
      "tags": []
     },
     "output_type": "execute_result"
    },
    {
     "data": {
      "image/png": "[encoded data removed]",
      "text/plain": [
       "<Figure size 432x288 with 1 Axes>"
      ]
     },
     "metadata": {
      "tags": []
     },
     "output_type": "display_data"
    }
   ],
   "source": [
    "h = history.history\n",
    "plt.plot(h['acc'], 'bo--')\n",
    "plt.plot(h['val_acc'], 'r^-')\n",
    "plt.legend(['acc', 'val_acc'])\n",
    "plt.text(6,0.87,'val_acc_max = '+ str(max(h['val_acc'])))"
   ]
  },
  {
   "cell_type": "code",
   "execution_count": null,
   "metadata": {
    "id": "LLuUypZcw5u_",
    "outputId": "b3836b6f-bc88-43ba-85f3-6a958d8c839c"
   },
   "outputs": [
    {
     "data": {
      "text/plain": [
       "Text(3,0.3,'val_loss_min = 0.36401541996002196')"
      ]
     },
     "execution_count": 14,
     "metadata": {
      "tags": []
     },
     "output_type": "execute_result"
    },
    {
     "data": {
      "image/png": "[encoded data removed]",
      "text/plain": [
       "<Figure size 432x288 with 1 Axes>"
      ]
     },
     "metadata": {
      "tags": []
     },
     "output_type": "display_data"
    }
   ],
   "source": [
    "plt.plot(h['loss'], 'bo--')\n",
    "plt.plot(h['val_loss'], 'r^-')\n",
    "plt.legend(['loss', 'val_loss'])\n",
    "plt.text(3,0.3,'val_loss_min = '+ str(min(h['val_loss'])))"
   ]
  },
  {
   "cell_type": "code",
   "execution_count": null,
   "metadata": {
    "id": "kxAnWbcyw5vB",
    "outputId": "ed2d4239-9408-46a9-c31a-6f01d03e6382"
   },
   "outputs": [
    {
     "name": "stdout",
     "output_type": "stream",
     "text": [
      "Help on class SimpleRNN in module keras.layers.recurrent:\n",
      "\n",
      "class SimpleRNN(RNN)\n",
      " |  Fully-connected RNN where the output is to be fed back to input.\n",
      " |  \n",
      " |  # Arguments\n",
      " |      units: Positive integer, dimensionality of the output space.\n",
      " |      activation: Activation function to use\n",
      " |          (see [activations](../activations.md)).\n",
      " |          Default: hyperbolic tangent (`tanh`).\n",
      " |          If you pass `None`, no activation is applied\n",
      " |          (ie. \"linear\" activation: `a(x) = x`).\n",
      " |      use_bias: Boolean, whether the layer uses a bias vector.\n",
      " |      kernel_initializer: Initializer for the `kernel` weights matrix,\n",
      " |          used for the linear transformation of the inputs\n",
      " |          (see [initializers](../initializers.md)).\n",
      " |      recurrent_initializer: Initializer for the `recurrent_kernel`\n",
      " |          weights matrix,\n",
      " |          used for the linear transformation of the recurrent state\n",
      " |          (see [initializers](../initializers.md)).\n",
      " |      bias_initializer: Initializer for the bias vector\n",
      " |          (see [initializers](../initializers.md)).\n",
      " |      kernel_regularizer: Regularizer function applied to\n",
      " |          the `kernel` weights matrix\n",
      " |          (see [regularizer](../regularizers.md)).\n",
      " |      recurrent_regularizer: Regularizer function applied to\n",
      " |          the `recurrent_kernel` weights matrix\n",
      " |          (see [regularizer](../regularizers.md)).\n",
      " |      bias_regularizer: Regularizer function applied to the bias vector\n",
      " |          (see [regularizer](../regularizers.md)).\n",
      " |      activity_regularizer: Regularizer function applied to\n",
      " |          the output of the layer (its \"activation\").\n",
      " |          (see [regularizer](../regularizers.md)).\n",
      " |      kernel_constraint: Constraint function applied to\n",
      " |          the `kernel` weights matrix\n",
      " |          (see [constraints](../constraints.md)).\n",
      " |      recurrent_constraint: Constraint function applied to\n",
      " |          the `recurrent_kernel` weights matrix\n",
      " |          (see [constraints](../constraints.md)).\n",
      " |      bias_constraint: Constraint function applied to the bias vector\n",
      " |          (see [constraints](../constraints.md)).\n",
      " |      dropout: Float between 0 and 1.\n",
      " |          Fraction of the units to drop for\n",
      " |          the linear transformation of the inputs.\n",
      " |      recurrent_dropout: Float between 0 and 1.\n",
      " |          Fraction of the units to drop for\n",
      " |          the linear transformation of the recurrent state.\n",
      " |      return_sequences: Boolean. Whether to return the last output\n",
      " |          in the output sequence, or the full sequence.\n",
      " |      return_state: Boolean. Whether to return the last state\n",
      " |          in addition to the output.\n",
      " |      go_backwards: Boolean (default False).\n",
      " |          If True, process the input sequence backwards and return the\n",
      " |          reversed sequence.\n",
      " |      stateful: Boolean (default False). If True, the last state\n",
      " |          for each sample at index i in a batch will be used as initial\n",
      " |          state for the sample of index i in the following batch.\n",
      " |      unroll: Boolean (default False).\n",
      " |          If True, the network will be unrolled,\n",
      " |          else a symbolic loop will be used.\n",
      " |          Unrolling can speed-up a RNN,\n",
      " |          although it tends to be more memory-intensive.\n",
      " |          Unrolling is only suitable for short sequences.\n",
      " |  \n",
      " |  Method resolution order:\n",
      " |      SimpleRNN\n",
      " |      RNN\n",
      " |      keras.engine.base_layer.Layer\n",
      " |      builtins.object\n",
      " |  \n",
      " |  Methods defined here:\n",
      " |  \n",
      " |  __init__(self, units, activation='tanh', use_bias=True, kernel_initializer='glorot_uniform', recurrent_initializer='orthogonal', bias_initializer='zeros', kernel_regularizer=None, recurrent_regularizer=None, bias_regularizer=None, activity_regularizer=None, kernel_constraint=None, recurrent_constraint=None, bias_constraint=None, dropout=0.0, recurrent_dropout=0.0, return_sequences=False, return_state=False, go_backwards=False, stateful=False, unroll=False, **kwargs)\n",
      " |      Initialize self.  See help(type(self)) for accurate signature.\n",
      " |  \n",
      " |  call(self, inputs, mask=None, training=None, initial_state=None)\n",
      " |      This is where the layer's logic lives.\n",
      " |      \n",
      " |      # Arguments\n",
      " |          inputs: Input tensor, or list/tuple of input tensors.\n",
      " |          **kwargs: Additional keyword arguments.\n",
      " |      \n",
      " |      # Returns\n",
      " |          A tensor or list/tuple of tensors.\n",
      " |  \n",
      " |  get_config(self)\n",
      " |      Returns the config of the layer.\n",
      " |      \n",
      " |      A layer config is a Python dictionary (serializable)\n",
      " |      containing the configuration of a layer.\n",
      " |      The same layer can be reinstantiated later\n",
      " |      (without its trained weights) from this configuration.\n",
      " |      \n",
      " |      The config of a layer does not include connectivity\n",
      " |      information, nor the layer class name. These are handled\n",
      " |      by `Network` (one layer of abstraction above).\n",
      " |      \n",
      " |      # Returns\n",
      " |          Python dictionary.\n",
      " |  \n",
      " |  ----------------------------------------------------------------------\n",
      " |  Class methods defined here:\n",
      " |  \n",
      " |  from_config(config) from builtins.type\n",
      " |      Creates a layer from its config.\n",
      " |      \n",
      " |      This method is the reverse of `get_config`,\n",
      " |      capable of instantiating the same layer from the config\n",
      " |      dictionary. It does not handle layer connectivity\n",
      " |      (handled by Network), nor weights (handled by `set_weights`).\n",
      " |      \n",
      " |      # Arguments\n",
      " |          config: A Python dictionary, typically the\n",
      " |              output of get_config.\n",
      " |      \n",
      " |      # Returns\n",
      " |          A layer instance.\n",
      " |  \n",
      " |  ----------------------------------------------------------------------\n",
      " |  Data descriptors defined here:\n",
      " |  \n",
      " |  activation\n",
      " |  \n",
      " |  bias_constraint\n",
      " |  \n",
      " |  bias_initializer\n",
      " |  \n",
      " |  bias_regularizer\n",
      " |  \n",
      " |  dropout\n",
      " |  \n",
      " |  kernel_constraint\n",
      " |  \n",
      " |  kernel_initializer\n",
      " |  \n",
      " |  kernel_regularizer\n",
      " |  \n",
      " |  recurrent_constraint\n",
      " |  \n",
      " |  recurrent_dropout\n",
      " |  \n",
      " |  recurrent_initializer\n",
      " |  \n",
      " |  recurrent_regularizer\n",
      " |  \n",
      " |  units\n",
      " |  \n",
      " |  use_bias\n",
      " |  \n",
      " |  ----------------------------------------------------------------------\n",
      " |  Methods inherited from RNN:\n",
      " |  \n",
      " |  __call__(self, inputs, initial_state=None, constants=None, **kwargs)\n",
      " |      Wrapper around self.call(), for handling internal references.\n",
      " |      \n",
      " |      If a Keras tensor is passed:\n",
      " |          - We call self._add_inbound_node().\n",
      " |          - If necessary, we `build` the layer to match\n",
      " |              the _keras_shape of the input(s).\n",
      " |          - We update the _keras_shape of every input tensor with\n",
      " |              its new shape (obtained via self.compute_output_shape).\n",
      " |              This is done as part of _add_inbound_node().\n",
      " |          - We update the _keras_history of the output tensor(s)\n",
      " |              with the current layer.\n",
      " |              This is done as part of _add_inbound_node().\n",
      " |      \n",
      " |      # Arguments\n",
      " |          inputs: Can be a tensor or list/tuple of tensors.\n",
      " |          **kwargs: Additional keyword arguments to be passed to `call()`.\n",
      " |      \n",
      " |      # Returns\n",
      " |          Output of the layer's `call` method.\n",
      " |      \n",
      " |      # Raises\n",
      " |          ValueError: in case the layer is missing shape information\n",
      " |              for its `build` call.\n",
      " |  \n",
      " |  build(self, input_shape)\n",
      " |      Creates the layer weights.\n",
      " |      \n",
      " |      Must be implemented on all layers that have weights.\n",
      " |      \n",
      " |      # Arguments\n",
      " |          input_shape: Keras tensor (future input to layer)\n",
      " |              or list/tuple of Keras tensors to reference\n",
      " |              for weight shape computations.\n",
      " |  \n",
      " |  compute_mask(self, inputs, mask)\n",
      " |      Computes an output mask tensor.\n",
      " |      \n",
      " |      # Arguments\n",
      " |          inputs: Tensor or list of tensors.\n",
      " |          mask: Tensor or list of tensors.\n",
      " |      \n",
      " |      # Returns\n",
      " |          None or a tensor (or list of tensors,\n",
      " |              one per output tensor of the layer).\n",
      " |  \n",
      " |  compute_output_shape(self, input_shape)\n",
      " |      Computes the output shape of the layer.\n",
      " |      \n",
      " |      Assumes that the layer will be built\n",
      " |      to match that input shape provided.\n",
      " |      \n",
      " |      # Arguments\n",
      " |          input_shape: Shape tuple (tuple of integers)\n",
      " |              or list of shape tuples (one per output tensor of the layer).\n",
      " |              Shape tuples can include None for free dimensions,\n",
      " |              instead of an integer.\n",
      " |      \n",
      " |      # Returns\n",
      " |          An input shape tuple.\n",
      " |  \n",
      " |  get_initial_state(self, inputs)\n",
      " |  \n",
      " |  get_losses_for(self, inputs=None)\n",
      " |  \n",
      " |  reset_states(self, states=None)\n",
      " |  \n",
      " |  ----------------------------------------------------------------------\n",
      " |  Data descriptors inherited from RNN:\n",
      " |  \n",
      " |  losses\n",
      " |  \n",
      " |  non_trainable_weights\n",
      " |  \n",
      " |  states\n",
      " |  \n",
      " |  trainable_weights\n",
      " |  \n",
      " |  ----------------------------------------------------------------------\n",
      " |  Methods inherited from keras.engine.base_layer.Layer:\n",
      " |  \n",
      " |  add_loss(self, losses, inputs=None)\n",
      " |      Adds losses to the layer.\n",
      " |      \n",
      " |      The loss may potentially be conditional on some inputs tensors,\n",
      " |      for instance activity losses are conditional on the layer's inputs.\n",
      " |      \n",
      " |      # Arguments\n",
      " |          losses: loss tensor or list of loss tensors\n",
      " |              to add to the layer.\n",
      " |          inputs: input tensor or list of inputs tensors to mark\n",
      " |              the losses as conditional on these inputs.\n",
      " |              If None is passed, the loss is assumed unconditional\n",
      " |              (e.g. L2 weight regularization, which only depends\n",
      " |              on the layer's weights variables, not on any inputs tensors).\n",
      " |  \n",
      " |  add_update(self, updates, inputs=None)\n",
      " |      Adds updates to the layer.\n",
      " |      \n",
      " |      The updates may potentially be conditional on some inputs tensors,\n",
      " |      for instance batch norm updates are conditional on the layer's inputs.\n",
      " |      \n",
      " |      # Arguments\n",
      " |          updates: update op or list of update ops\n",
      " |              to add to the layer.\n",
      " |          inputs: input tensor or list of inputs tensors to mark\n",
      " |              the updates as conditional on these inputs.\n",
      " |              If None is passed, the updates are assumed unconditional.\n",
      " |  \n",
      " |  add_weight(self, name, shape, dtype=None, initializer=None, regularizer=None, trainable=True, constraint=None)\n",
      " |      Adds a weight variable to the layer.\n",
      " |      \n",
      " |      # Arguments\n",
      " |          name: String, the name for the weight variable.\n",
      " |          shape: The shape tuple of the weight.\n",
      " |          dtype: The dtype of the weight.\n",
      " |          initializer: An Initializer instance (callable).\n",
      " |          regularizer: An optional Regularizer instance.\n",
      " |          trainable: A boolean, whether the weight should\n",
      " |              be trained via backprop or not (assuming\n",
      " |              that the layer itself is also trainable).\n",
      " |          constraint: An optional Constraint instance.\n",
      " |      \n",
      " |      # Returns\n",
      " |          The created weight variable.\n",
      " |  \n",
      " |  assert_input_compatibility(self, inputs)\n",
      " |      Checks compatibility between the layer and provided inputs.\n",
      " |      \n",
      " |      This checks that the tensor(s) `input`\n",
      " |      verify the input assumptions of the layer\n",
      " |      (if any). If not, exceptions are raised.\n",
      " |      \n",
      " |      # Arguments\n",
      " |          inputs: input tensor or list of input tensors.\n",
      " |      \n",
      " |      # Raises\n",
      " |          ValueError: in case of mismatch between\n",
      " |              the provided inputs and the expectations of the layer.\n",
      " |  \n",
      " |  count_params(self)\n",
      " |      Counts the total number of scalars composing the weights.\n",
      " |      \n",
      " |      # Returns\n",
      " |          An integer count.\n",
      " |      \n",
      " |      # Raises\n",
      " |          RuntimeError: if the layer isn't yet built\n",
      " |              (in which case its weights aren't yet defined).\n",
      " |  \n",
      " |  get_input_at(self, node_index)\n",
      " |      Retrieves the input tensor(s) of a layer at a given node.\n",
      " |      \n",
      " |      # Arguments\n",
      " |          node_index: Integer, index of the node\n",
      " |              from which to retrieve the attribute.\n",
      " |              E.g. `node_index=0` will correspond to the\n",
      " |              first time the layer was called.\n",
      " |      \n",
      " |      # Returns\n",
      " |          A tensor (or list of tensors if the layer has multiple inputs).\n",
      " |  \n",
      " |  get_input_mask_at(self, node_index)\n",
      " |      Retrieves the input mask tensor(s) of a layer at a given node.\n",
      " |      \n",
      " |      # Arguments\n",
      " |          node_index: Integer, index of the node\n",
      " |              from which to retrieve the attribute.\n",
      " |              E.g. `node_index=0` will correspond to the\n",
      " |              first time the layer was called.\n",
      " |      \n",
      " |      # Returns\n",
      " |          A mask tensor\n",
      " |          (or list of tensors if the layer has multiple inputs).\n",
      " |  \n",
      " |  get_input_shape_at(self, node_index)\n",
      " |      Retrieves the input shape(s) of a layer at a given node.\n",
      " |      \n",
      " |      # Arguments\n",
      " |          node_index: Integer, index of the node\n",
      " |              from which to retrieve the attribute.\n",
      " |              E.g. `node_index=0` will correspond to the\n",
      " |              first time the layer was called.\n",
      " |      \n",
      " |      # Returns\n",
      " |          A shape tuple\n",
      " |          (or list of shape tuples if the layer has multiple inputs).\n",
      " |  \n",
      " |  get_output_at(self, node_index)\n",
      " |      Retrieves the output tensor(s) of a layer at a given node.\n",
      " |      \n",
      " |      # Arguments\n",
      " |          node_index: Integer, index of the node\n",
      " |              from which to retrieve the attribute.\n",
      " |              E.g. `node_index=0` will correspond to the\n",
      " |              first time the layer was called.\n",
      " |      \n",
      " |      # Returns\n",
      " |          A tensor (or list of tensors if the layer has multiple outputs).\n",
      " |  \n",
      " |  get_output_mask_at(self, node_index)\n",
      " |      Retrieves the output mask tensor(s) of a layer at a given node.\n",
      " |      \n",
      " |      # Arguments\n",
      " |          node_index: Integer, index of the node\n",
      " |              from which to retrieve the attribute.\n",
      " |              E.g. `node_index=0` will correspond to the\n",
      " |              first time the layer was called.\n",
      " |      \n",
      " |      # Returns\n",
      " |          A mask tensor\n",
      " |          (or list of tensors if the layer has multiple outputs).\n",
      " |  \n",
      " |  get_output_shape_at(self, node_index)\n",
      " |      Retrieves the output shape(s) of a layer at a given node.\n",
      " |      \n",
      " |      # Arguments\n",
      " |          node_index: Integer, index of the node\n",
      " |              from which to retrieve the attribute.\n",
      " |              E.g. `node_index=0` will correspond to the\n",
      " |              first time the layer was called.\n",
      " |      \n",
      " |      # Returns\n",
      " |          A shape tuple\n",
      " |          (or list of shape tuples if the layer has multiple outputs).\n",
      " |  \n",
      " |  get_updates_for(self, inputs)\n",
      " |  \n",
      " |  get_weights(self)\n",
      " |      Returns the current weights of the layer.\n",
      " |      \n",
      " |      # Returns\n",
      " |          Weights values as a list of numpy arrays.\n",
      " |  \n",
      " |  set_weights(self, weights)\n",
      " |      Sets the weights of the layer, from Numpy arrays.\n",
      " |      \n",
      " |      # Arguments\n",
      " |          weights: a list of Numpy arrays. The number\n",
      " |              of arrays and their shape must match\n",
      " |              number of the dimensions of the weights\n",
      " |              of the layer (i.e. it should match the\n",
      " |              output of `get_weights`).\n",
      " |      \n",
      " |      # Raises\n",
      " |          ValueError: If the provided weights list does not match the\n",
      " |              layer's specifications.\n",
      " |  \n",
      " |  ----------------------------------------------------------------------\n",
      " |  Data descriptors inherited from keras.engine.base_layer.Layer:\n",
      " |  \n",
      " |  __dict__\n",
      " |      dictionary for instance variables (if defined)\n",
      " |  \n",
      " |  __weakref__\n",
      " |      list of weak references to the object (if defined)\n",
      " |  \n",
      " |  built\n",
      " |  \n",
      " |  input\n",
      " |      Retrieves the input tensor(s) of a layer.\n",
      " |      \n",
      " |      Only applicable if the layer has exactly one inbound node,\n",
      " |      i.e. if it is connected to one incoming layer.\n",
      " |      \n",
      " |      # Returns\n",
      " |          Input tensor or list of input tensors.\n",
      " |      \n",
      " |      # Raises\n",
      " |          AttributeError: if the layer is connected to\n",
      " |          more than one incoming layers.\n",
      " |  \n",
      " |  input_mask\n",
      " |      Retrieves the input mask tensor(s) of a layer.\n",
      " |      \n",
      " |      Only applicable if the layer has exactly one inbound node,\n",
      " |      i.e. if it is connected to one incoming layer.\n",
      " |      \n",
      " |      # Returns\n",
      " |          Input mask tensor (potentially None) or list of input\n",
      " |          mask tensors.\n",
      " |      \n",
      " |      # Raises\n",
      " |          AttributeError: if the layer is connected to\n",
      " |          more than one incoming layers.\n",
      " |  \n",
      " |  input_shape\n",
      " |      Retrieves the input shape tuple(s) of a layer.\n",
      " |      \n",
      " |      Only applicable if the layer has exactly one inbound node,\n",
      " |      i.e. if it is connected to one incoming layer.\n",
      " |      \n",
      " |      # Returns\n",
      " |          Input shape tuple\n",
      " |          (or list of input shape tuples, one tuple per input tensor).\n",
      " |      \n",
      " |      # Raises\n",
      " |          AttributeError: if the layer is connected to\n",
      " |          more than one incoming layers.\n",
      " |  \n",
      " |  output\n",
      " |      Retrieves the output tensor(s) of a layer.\n",
      " |      \n",
      " |      Only applicable if the layer has exactly one inbound node,\n",
      " |      i.e. if it is connected to one incoming layer.\n",
      " |      \n",
      " |      # Returns\n",
      " |          Output tensor or list of output tensors.\n",
      " |      \n",
      " |      # Raises\n",
      " |          AttributeError: if the layer is connected to\n",
      " |          more than one incoming layers.\n",
      " |  \n",
      " |  output_mask\n",
      " |      Retrieves the output mask tensor(s) of a layer.\n",
      " |      \n",
      " |      Only applicable if the layer has exactly one inbound node,\n",
      " |      i.e. if it is connected to one incoming layer.\n",
      " |      \n",
      " |      # Returns\n",
      " |          Output mask tensor (potentially None) or list of output\n",
      " |          mask tensors.\n",
      " |      \n",
      " |      # Raises\n",
      " |          AttributeError: if the layer is connected to\n",
      " |          more than one incoming layers.\n",
      " |  \n",
      " |  output_shape\n",
      " |      Retrieves the output shape tuple(s) of a layer.\n",
      " |      \n",
      " |      Only applicable if the layer has one inbound node,\n",
      " |      or if all inbound nodes have the same output shape.\n",
      " |      \n",
      " |      # Returns\n",
      " |          Output shape tuple\n",
      " |          (or list of input shape tuples, one tuple per output tensor).\n",
      " |      \n",
      " |      # Raises\n",
      " |          AttributeError: if the layer is connected to\n",
      " |          more than one incoming layers.\n",
      " |  \n",
      " |  updates\n",
      " |  \n",
      " |  weights\n",
      "\n"
     ]
    }
   ],
   "source": [
    "help(SimpleRNN)"
   ]
  },
  {
   "cell_type": "markdown",
   "metadata": {
    "id": "AzZzHXtIw5vD"
   },
   "source": [
    "### RNN 을 겹쳐서 사용하기\n",
    "- return_sequence 옵션을 사용하면 각 RNN Cell 의 출력값을 반환한다.\n",
    "- 이 출력값을 입력으로 받는 RNN 층을 위에 쌓을 수 있다."
   ]
  },
  {
   "cell_type": "markdown",
   "metadata": {
    "id": "ztsavDPGw5vF"
   },
   "source": [
    "<img src='rnn3.jpg' />"
   ]
  },
  {
   "cell_type": "code",
   "execution_count": null,
   "metadata": {
    "id": "lqgzAKXew5vG"
   },
   "outputs": [],
   "source": [
    "model = Sequential()\n",
    "model.add(Embedding(10000, 32, input_length=500))\n",
    "model.add(SimpleRNN(32, return_sequences=True)) # return_sequences=True!!!\n",
    "model.add(SimpleRNN(16, return_sequences=True)) # return_sequences=True!!!\n",
    "model.add(SimpleRNN(16))\n",
    "model.add(Dense(1, activation='sigmoid'))"
   ]
  },
  {
   "cell_type": "code",
   "execution_count": null,
   "metadata": {
    "id": "YhBJ0AFRw5vH",
    "outputId": "a282476a-f2e7-4d56-cffe-decd8b66f275"
   },
   "outputs": [
    {
     "name": "stdout",
     "output_type": "stream",
     "text": [
      "_________________________________________________________________\n",
      "Layer (type)                 Output Shape              Param #   \n",
      "=================================================================\n",
      "embedding_8 (Embedding)      (None, 500, 32)           320000    \n",
      "_________________________________________________________________\n",
      "simple_rnn_14 (SimpleRNN)    (None, 500, 32)           2080      \n",
      "_________________________________________________________________\n",
      "simple_rnn_15 (SimpleRNN)    (None, 500, 16)           784       \n",
      "_________________________________________________________________\n",
      "simple_rnn_16 (SimpleRNN)    (None, 16)                528       \n",
      "_________________________________________________________________\n",
      "dense_5 (Dense)              (None, 1)                 17        \n",
      "=================================================================\n",
      "Total params: 323,409\n",
      "Trainable params: 323,409\n",
      "Non-trainable params: 0\n",
      "_________________________________________________________________\n"
     ]
    }
   ],
   "source": [
    "model.summary()"
   ]
  },
  {
   "cell_type": "code",
   "execution_count": null,
   "metadata": {
    "id": "4t6VKfbTw5vJ",
    "outputId": "d0acf027-0ab0-4467-852d-20903fea35b9"
   },
   "outputs": [
    {
     "name": "stdout",
     "output_type": "stream",
     "text": [
      "Train on 20000 samples, validate on 5000 samples\n",
      "Epoch 1/10\n",
      "20000/20000 [==============================] - 153s 8ms/step - loss: 0.6759 - acc: 0.5591 - val_loss: 0.5588 - val_acc: 0.7122\n",
      "Epoch 2/10\n",
      "20000/20000 [==============================] - 149s 7ms/step - loss: 0.4185 - acc: 0.8155 - val_loss: 0.4588 - val_acc: 0.7866\n",
      "Epoch 3/10\n",
      "20000/20000 [==============================] - 147s 7ms/step - loss: 0.2539 - acc: 0.8995 - val_loss: 0.4267 - val_acc: 0.8232\n",
      "Epoch 4/10\n",
      "20000/20000 [==============================] - 149s 7ms/step - loss: 0.1430 - acc: 0.9476 - val_loss: 0.4932 - val_acc: 0.8170\n",
      "Epoch 5/10\n",
      "20000/20000 [==============================] - 147s 7ms/step - loss: 0.0692 - acc: 0.9772 - val_loss: 0.5815 - val_acc: 0.8152\n",
      "Epoch 6/10\n",
      "20000/20000 [==============================] - 149s 7ms/step - loss: 0.0334 - acc: 0.9895 - val_loss: 0.7743 - val_acc: 0.7798\n",
      "Epoch 7/10\n",
      "20000/20000 [==============================] - 148s 7ms/step - loss: 0.0215 - acc: 0.9931 - val_loss: 0.7825 - val_acc: 0.8132\n",
      "Epoch 8/10\n",
      "20000/20000 [==============================] - 150s 8ms/step - loss: 0.0106 - acc: 0.9972 - val_loss: 0.9367 - val_acc: 0.8162\n",
      "Epoch 9/10\n",
      "20000/20000 [==============================] - 153s 8ms/step - loss: 0.0097 - acc: 0.9971 - val_loss: 1.4130 - val_acc: 0.6770\n",
      "Epoch 10/10\n",
      "20000/20000 [==============================] - 156s 8ms/step - loss: 0.0099 - acc: 0.9977 - val_loss: 1.1906 - val_acc: 0.7506\n"
     ]
    }
   ],
   "source": [
    "model.compile(loss='binary_crossentropy', optimizer='rmsprop', metrics=['acc'])\n",
    "history = model.fit(X_train, y_train, epochs=10, batch_size=128, validation_split=0.2)"
   ]
  },
  {
   "cell_type": "code",
   "execution_count": null,
   "metadata": {
    "id": "Ke-px1nhw5vK",
    "outputId": "2244d8de-75dc-4867-dbcd-bb00c8c7428d"
   },
   "outputs": [
    {
     "data": {
      "text/plain": [
       "Text(6,0.87,'val_acc_max = 0.8232')"
      ]
     },
     "execution_count": 29,
     "metadata": {
      "tags": []
     },
     "output_type": "execute_result"
    },
    {
     "data": {
      "image/png": "[encoded data removed]",
      "text/plain": [
       "<Figure size 432x288 with 1 Axes>"
      ]
     },
     "metadata": {
      "tags": []
     },
     "output_type": "display_data"
    }
   ],
   "source": [
    "h = history.history\n",
    "plt.plot(h['acc'], 'bo--')\n",
    "plt.plot(h['val_acc'], 'r^-')\n",
    "plt.legend(['acc', 'val_acc'])\n",
    "plt.text(6,0.87,'val_acc_max = '+ str(max(h['val_acc'])))"
   ]
  },
  {
   "cell_type": "code",
   "execution_count": null,
   "metadata": {
    "id": "IjLbe9ihw5vL",
    "outputId": "b9ba18a2-24b1-4d4b-92ba-ca67855711ab"
   },
   "outputs": [
    {
     "data": {
      "text/plain": [
       "Text(3,0.3,'val_loss_min = 0.4266521214962006')"
      ]
     },
     "execution_count": 30,
     "metadata": {
      "tags": []
     },
     "output_type": "execute_result"
    },
    {
     "data": {
      "image/png": "[encoded data removed]",
      "text/plain": [
       "<Figure size 432x288 with 1 Axes>"
      ]
     },
     "metadata": {
      "tags": []
     },
     "output_type": "display_data"
    }
   ],
   "source": [
    "plt.plot(h['loss'], 'bo--')\n",
    "plt.plot(h['val_loss'], 'r^-')\n",
    "plt.legend(['loss', 'val_loss'])\n",
    "plt.text(3,0.3,'val_loss_min = '+ str(min(h['val_loss'])))"
   ]
  },
  {
   "cell_type": "markdown",
   "metadata": {
    "id": "BWw9Xdl7w5vM"
   },
   "source": [
    "### 그래디언트 소실 문제\n",
    "- RNN 은 하나의 층에서도 반복적인 RNN Cell 을 적용하므로, 실제로는 많은 층을 거치게 된다.\n",
    "- 최상위의 손실값을 조금씩 아래로 나누어 주어 기울기의 가중치를 부여하는 것이 신경망의 핵심 알고리즘인 역전파(Backpropagation) 이다.\n",
    "- 층을 많이 거치므로 초기층들의 영향력은 점점 줄어들게 된다. 즉, 문장에서 처음 나오는 단어들은 거의 무시되는 경향이 생긴다.\n",
    "- 이러한 문제를 Vanishing Gradient Problem 이라고 부른다.\n",
    "- 그래디언트 소실 문제를 해결하기 위해 LSTM 과 GRU 가 제안되었고, SimpleRNN 은 거의 사용되지 않는다."
   ]
  },
  {
   "cell_type": "markdown",
   "metadata": {
    "id": "WHU3ErzFw5vO"
   },
   "source": [
    "### LSTM 적용\n",
    "- Long Short Term Memory\n",
    "- 그래디언트 소실 문제(Vanishing gradient problem) 을 해결하기 위해, 이전 타임의 영향력을 좀 더 키운 것이다.\n",
    "- LSTM 의 역할 => **과거 정보를 나중에 다시 주입하여 그래디언트 소실 문제를 해결**"
   ]
  },
  {
   "cell_type": "markdown",
   "metadata": {
    "id": "yb7bmpXDw5vP"
   },
   "source": [
    "<img src='https://media-exp1.licdn.com/dms/image/C5112AQFYCsSesLKmVg/article-inline_image-shrink_1000_1488/0/1520204191901?e=1623888000&v=beta&t=lL8PH3RvOUFjkalDVSIrj8FDiBylF4XXwfeuhrkJXdk' />\n",
    "(출처: https://www.linkedin.com/pulse/chapter-101-deepnlp-lstm-long-short-term-memory-math-sanjeevi-mady-)"
   ]
  },
  {
   "cell_type": "markdown",
   "metadata": {
    "id": "b8XQ-Qfbw5vQ"
   },
   "source": [
    "<img src='lstm.jpg' />"
   ]
  },
  {
   "cell_type": "code",
   "execution_count": 8,
   "metadata": {
    "id": "-kYedkp-w5vQ"
   },
   "outputs": [],
   "source": [
    "from tensorflow.keras.layers import LSTM"
   ]
  },
  {
   "cell_type": "code",
   "execution_count": 9,
   "metadata": {
    "id": "K_MnviFHw5vR"
   },
   "outputs": [],
   "source": [
    "model = Sequential()\n",
    "model.add(Embedding(10000, 32))\n",
    "model.add(LSTM(32))\n",
    "model.add(Dense(1, activation='sigmoid'))"
   ]
  },
  {
   "cell_type": "code",
   "execution_count": 10,
   "metadata": {
    "colab": {
     "base_uri": "https://localhost:8080/"
    },
    "id": "x4hHo4Vnw5vU",
    "outputId": "8d498090-dd7b-4302-a0c3-22ef373f685d"
   },
   "outputs": [
    {
     "name": "stdout",
     "output_type": "stream",
     "text": [
      "Model: \"sequential\"\n",
      "_________________________________________________________________\n",
      "Layer (type)                 Output Shape              Param #   \n",
      "=================================================================\n",
      "embedding (Embedding)        (None, None, 32)          320000    \n",
      "_________________________________________________________________\n",
      "lstm (LSTM)                  (None, 32)                8320      \n",
      "_________________________________________________________________\n",
      "dense (Dense)                (None, 1)                 33        \n",
      "=================================================================\n",
      "Total params: 328,353\n",
      "Trainable params: 328,353\n",
      "Non-trainable params: 0\n",
      "_________________________________________________________________\n"
     ]
    }
   ],
   "source": [
    "model.summary()"
   ]
  },
  {
   "cell_type": "code",
   "execution_count": 11,
   "metadata": {
    "colab": {
     "base_uri": "https://localhost:8080/"
    },
    "id": "dUfPrbykw5vW",
    "outputId": "9b3e58f2-2063-4e07-d089-8ebb40f1fdb8"
   },
   "outputs": [
    {
     "name": "stdout",
     "output_type": "stream",
     "text": [
      "Epoch 1/20\n",
      "157/157 [==============================] - 37s 31ms/step - loss: 0.6319 - acc: 0.6483 - val_loss: 0.3665 - val_acc: 0.8476\n",
      "Epoch 2/20\n",
      "157/157 [==============================] - 4s 25ms/step - loss: 0.3073 - acc: 0.8791 - val_loss: 0.4505 - val_acc: 0.8438\n",
      "Epoch 3/20\n",
      "157/157 [==============================] - 4s 25ms/step - loss: 0.2585 - acc: 0.9057 - val_loss: 0.3063 - val_acc: 0.8868\n",
      "Epoch 4/20\n",
      "157/157 [==============================] - 4s 25ms/step - loss: 0.2005 - acc: 0.9262 - val_loss: 0.3045 - val_acc: 0.8834\n",
      "Epoch 5/20\n",
      "157/157 [==============================] - 4s 25ms/step - loss: 0.1725 - acc: 0.9345 - val_loss: 0.2951 - val_acc: 0.8830\n",
      "Epoch 6/20\n",
      "157/157 [==============================] - 4s 25ms/step - loss: 0.1563 - acc: 0.9432 - val_loss: 0.3011 - val_acc: 0.8860\n",
      "Epoch 7/20\n",
      "157/157 [==============================] - 4s 25ms/step - loss: 0.1381 - acc: 0.9527 - val_loss: 0.3234 - val_acc: 0.8790\n",
      "Epoch 8/20\n",
      "157/157 [==============================] - 4s 25ms/step - loss: 0.1229 - acc: 0.9580 - val_loss: 0.3134 - val_acc: 0.8822\n",
      "Epoch 9/20\n",
      "157/157 [==============================] - 4s 25ms/step - loss: 0.1128 - acc: 0.9615 - val_loss: 0.3609 - val_acc: 0.8870\n",
      "Epoch 10/20\n",
      "157/157 [==============================] - 4s 25ms/step - loss: 0.1129 - acc: 0.9605 - val_loss: 0.3779 - val_acc: 0.8830\n",
      "Epoch 11/20\n",
      "157/157 [==============================] - 4s 25ms/step - loss: 0.0967 - acc: 0.9677 - val_loss: 0.3979 - val_acc: 0.8660\n",
      "Epoch 12/20\n",
      "157/157 [==============================] - 4s 25ms/step - loss: 0.0929 - acc: 0.9689 - val_loss: 0.3909 - val_acc: 0.8502\n",
      "Epoch 13/20\n",
      "157/157 [==============================] - 4s 25ms/step - loss: 0.0846 - acc: 0.9729 - val_loss: 0.4522 - val_acc: 0.8734\n",
      "Epoch 14/20\n",
      "157/157 [==============================] - 4s 25ms/step - loss: 0.0768 - acc: 0.9749 - val_loss: 0.3800 - val_acc: 0.8746\n",
      "Epoch 15/20\n",
      "157/157 [==============================] - 4s 25ms/step - loss: 0.0697 - acc: 0.9772 - val_loss: 0.4106 - val_acc: 0.8722\n",
      "Epoch 16/20\n",
      "157/157 [==============================] - 4s 25ms/step - loss: 0.0627 - acc: 0.9799 - val_loss: 0.4492 - val_acc: 0.8718\n",
      "Epoch 17/20\n",
      "157/157 [==============================] - 4s 25ms/step - loss: 0.0585 - acc: 0.9811 - val_loss: 0.4569 - val_acc: 0.8754\n",
      "Epoch 18/20\n",
      "157/157 [==============================] - 4s 25ms/step - loss: 0.0608 - acc: 0.9796 - val_loss: 0.8284 - val_acc: 0.8220\n",
      "Epoch 19/20\n",
      "157/157 [==============================] - 4s 25ms/step - loss: 0.0659 - acc: 0.9803 - val_loss: 0.4229 - val_acc: 0.8724\n",
      "Epoch 20/20\n",
      "157/157 [==============================] - 4s 25ms/step - loss: 0.0461 - acc: 0.9864 - val_loss: 0.7292 - val_acc: 0.8416\n"
     ]
    }
   ],
   "source": [
    "model.compile(loss='binary_crossentropy', optimizer='rmsprop', metrics=['acc'])\n",
    "history = model.fit(X_train, y_train, epochs=20, batch_size=128, validation_split=0.2)"
   ]
  },
  {
   "cell_type": "code",
   "execution_count": 12,
   "metadata": {
    "colab": {
     "base_uri": "https://localhost:8080/",
     "height": 282
    },
    "id": "3toMLZoSw5vY",
    "outputId": "555590df-b372-48b2-9fd3-3fb8889d3f10"
   },
   "outputs": [
    {
     "data": {
      "text/plain": [
       "Text(2.5, 0.88, 'val_acc_max = 0.8870000243186951')"
      ]
     },
     "execution_count": 12,
     "metadata": {
      "tags": []
     },
     "output_type": "execute_result"
    },
    {
     "data": {
      "image/png": "[encoded data removed]",
      "text/plain": [
       "<Figure size 432x288 with 1 Axes>"
      ]
     },
     "metadata": {
      "needs_background": "light",
      "tags": []
     },
     "output_type": "display_data"
    }
   ],
   "source": [
    "h = history.history\n",
    "plt.plot(h['acc'], 'bo--')\n",
    "plt.plot(h['val_acc'], 'r^-')\n",
    "plt.legend(['acc', 'val_acc'])\n",
    "plt.text(2.5,0.88,'val_acc_max = '+ str(max(h['val_acc'])))"
   ]
  },
  {
   "cell_type": "code",
   "execution_count": 13,
   "metadata": {
    "colab": {
     "base_uri": "https://localhost:8080/",
     "height": 282
    },
    "id": "Ji2P5KUDw5vZ",
    "outputId": "8947fd90-efc9-4bdf-c8e5-8d2edea16975"
   },
   "outputs": [
    {
     "data": {
      "text/plain": [
       "Text(2, 0.28, 'val_loss_min = 0.29506340622901917')"
      ]
     },
     "execution_count": 13,
     "metadata": {
      "tags": []
     },
     "output_type": "execute_result"
    },
    {
     "data": {
      "image/png": "[encoded data removed]",
      "text/plain": [
       "<Figure size 432x288 with 1 Axes>"
      ]
     },
     "metadata": {
      "needs_background": "light",
      "tags": []
     },
     "output_type": "display_data"
    }
   ],
   "source": [
    "plt.plot(h['loss'], 'bo--')\n",
    "plt.plot(h['val_loss'], 'r^-')\n",
    "plt.legend(['loss', 'val_loss'])\n",
    "plt.text(2,0.28,'val_loss_min = '+ str(min(h['val_loss'])))"
   ]
  },
  {
   "cell_type": "markdown",
   "metadata": {
    "id": "-7DK38Yow5vb"
   },
   "source": [
    "- 결과 분석 (교재 277쪽 참고)\n",
    ">- 계산 부하에 비해 썩 좋은 결과가 나오지는 않습니다.\n",
    ">- 임베딩 차원을 튜닝하면 더 좋은 결과를 얻을 가능성이 크다.\n",
    ">- 리뷰를 전체적으로 길게 분석하는 것(LSTM이 잘하는 일)은 리뷰 분석과 같은 감성 분류 문제에 별로 도움이 되지 않는다.\n",
    ">- 이런 문제는 각 리뷰에 어떤 단어가 얼마나 나타나는 지를 보는 것이 더 나을 수 있다. (완전 연결 네트워크)\n",
    ">- LSTM 에 적합한 분야 => **질문-응답과 기계 번역**"
   ]
  },
  {
   "cell_type": "markdown",
   "metadata": {
    "id": "SCS2mOh-w5vc"
   },
   "source": [
    "### 복수의 LSTM층"
   ]
  },
  {
   "cell_type": "code",
   "execution_count": 14,
   "metadata": {
    "id": "XJAqyYrKw5vd"
   },
   "outputs": [],
   "source": [
    "from tensorflow.keras.layers import LSTM\n",
    "\n",
    "model = Sequential()\n",
    "model.add(Embedding(10000, 32, input_length=500))\n",
    "model.add(LSTM(64, return_sequences=True))\n",
    "model.add(LSTM(32))\n",
    "model.add(Dense(1, activation='sigmoid'))"
   ]
  },
  {
   "cell_type": "code",
   "execution_count": 15,
   "metadata": {
    "colab": {
     "base_uri": "https://localhost:8080/"
    },
    "id": "7ZzrtUkaw5ve",
    "outputId": "c320a51c-7045-46d0-8677-8f9845db3651"
   },
   "outputs": [
    {
     "name": "stdout",
     "output_type": "stream",
     "text": [
      "Model: \"sequential_1\"\n",
      "_________________________________________________________________\n",
      "Layer (type)                 Output Shape              Param #   \n",
      "=================================================================\n",
      "embedding_1 (Embedding)      (None, 500, 32)           320000    \n",
      "_________________________________________________________________\n",
      "lstm_1 (LSTM)                (None, 500, 64)           24832     \n",
      "_________________________________________________________________\n",
      "lstm_2 (LSTM)                (None, 32)                12416     \n",
      "_________________________________________________________________\n",
      "dense_1 (Dense)              (None, 1)                 33        \n",
      "=================================================================\n",
      "Total params: 357,281\n",
      "Trainable params: 357,281\n",
      "Non-trainable params: 0\n",
      "_________________________________________________________________\n"
     ]
    }
   ],
   "source": [
    "model.summary()"
   ]
  },
  {
   "cell_type": "markdown",
   "metadata": {
    "id": "c5jKcM5fw5vf"
   },
   "source": [
    "### 출력 모두 사용"
   ]
  },
  {
   "cell_type": "code",
   "execution_count": 19,
   "metadata": {
    "id": "ajecxGR5w5vg"
   },
   "outputs": [],
   "source": [
    "from tensorflow.keras.layers import LSTM, Flatten\n",
    "\n",
    "model = Sequential()\n",
    "model.add(Embedding(10000, 32, input_length=500))\n",
    "model.add(LSTM(64, return_sequences=True))\n",
    "model.add(Dense(1, activation='sigmoid'))\n",
    "model.add(Flatten())\n",
    "model.add(Dense(1, activation='sigmoid'))"
   ]
  },
  {
   "cell_type": "code",
   "execution_count": 20,
   "metadata": {
    "colab": {
     "base_uri": "https://localhost:8080/"
    },
    "id": "WpzsEzrOw5vh",
    "outputId": "9fe164bf-8099-4c8a-ba76-fe5258c4b70c"
   },
   "outputs": [
    {
     "name": "stdout",
     "output_type": "stream",
     "text": [
      "Model: \"sequential_3\"\n",
      "_________________________________________________________________\n",
      "Layer (type)                 Output Shape              Param #   \n",
      "=================================================================\n",
      "embedding_3 (Embedding)      (None, 500, 32)           320000    \n",
      "_________________________________________________________________\n",
      "lstm_4 (LSTM)                (None, 500, 64)           24832     \n",
      "_________________________________________________________________\n",
      "dense_4 (Dense)              (None, 500, 1)            65        \n",
      "_________________________________________________________________\n",
      "flatten_1 (Flatten)          (None, 500)               0         \n",
      "_________________________________________________________________\n",
      "dense_5 (Dense)              (None, 1)                 501       \n",
      "=================================================================\n",
      "Total params: 345,398\n",
      "Trainable params: 345,398\n",
      "Non-trainable params: 0\n",
      "_________________________________________________________________\n"
     ]
    }
   ],
   "source": [
    "model.summary()"
   ]
  },
  {
   "cell_type": "code",
   "execution_count": 21,
   "metadata": {
    "colab": {
     "base_uri": "https://localhost:8080/"
    },
    "id": "4fTQvhzCw5vi",
    "outputId": "c9738dda-91b3-485b-b5ef-5aaa5cb97c7f"
   },
   "outputs": [
    {
     "name": "stdout",
     "output_type": "stream",
     "text": [
      "Epoch 1/20\n",
      "157/157 [==============================] - 8s 38ms/step - loss: 0.6850 - acc: 0.5304 - val_loss: 0.4663 - val_acc: 0.8046\n",
      "Epoch 2/20\n",
      "157/157 [==============================] - 5s 35ms/step - loss: 0.4419 - acc: 0.8104 - val_loss: 0.3981 - val_acc: 0.8328\n",
      "Epoch 3/20\n",
      "157/157 [==============================] - 5s 34ms/step - loss: 0.3153 - acc: 0.8816 - val_loss: 0.3959 - val_acc: 0.8322\n",
      "Epoch 4/20\n",
      "157/157 [==============================] - 5s 35ms/step - loss: 0.2668 - acc: 0.9026 - val_loss: 0.3793 - val_acc: 0.8354\n",
      "Epoch 5/20\n",
      "157/157 [==============================] - 5s 34ms/step - loss: 0.2280 - acc: 0.9192 - val_loss: 0.3653 - val_acc: 0.8550\n",
      "Epoch 6/20\n",
      "157/157 [==============================] - 5s 34ms/step - loss: 0.1908 - acc: 0.9321 - val_loss: 0.5365 - val_acc: 0.8508\n",
      "Epoch 7/20\n",
      "157/157 [==============================] - 5s 35ms/step - loss: 0.1815 - acc: 0.9378 - val_loss: 0.3551 - val_acc: 0.8580\n",
      "Epoch 8/20\n",
      "157/157 [==============================] - 5s 34ms/step - loss: 0.1572 - acc: 0.9490 - val_loss: 0.4089 - val_acc: 0.8464\n",
      "Epoch 9/20\n",
      "157/157 [==============================] - 5s 34ms/step - loss: 0.1469 - acc: 0.9513 - val_loss: 0.4089 - val_acc: 0.8392\n",
      "Epoch 10/20\n",
      "157/157 [==============================] - 5s 34ms/step - loss: 0.1236 - acc: 0.9579 - val_loss: 0.4096 - val_acc: 0.8534\n",
      "Epoch 11/20\n",
      "157/157 [==============================] - 5s 34ms/step - loss: 0.1139 - acc: 0.9623 - val_loss: 0.4181 - val_acc: 0.8262\n",
      "Epoch 12/20\n",
      "157/157 [==============================] - 5s 34ms/step - loss: 0.1111 - acc: 0.9647 - val_loss: 0.5692 - val_acc: 0.8464\n",
      "Epoch 13/20\n",
      "157/157 [==============================] - 5s 34ms/step - loss: 0.1073 - acc: 0.9651 - val_loss: 0.4455 - val_acc: 0.8562\n",
      "Epoch 14/20\n",
      "157/157 [==============================] - 5s 34ms/step - loss: 0.0873 - acc: 0.9709 - val_loss: 0.5052 - val_acc: 0.8612\n",
      "Epoch 15/20\n",
      "157/157 [==============================] - 5s 34ms/step - loss: 0.0926 - acc: 0.9698 - val_loss: 0.5241 - val_acc: 0.8540\n",
      "Epoch 16/20\n",
      "157/157 [==============================] - 5s 34ms/step - loss: 0.0821 - acc: 0.9766 - val_loss: 0.6501 - val_acc: 0.8292\n",
      "Epoch 17/20\n",
      "157/157 [==============================] - 5s 34ms/step - loss: 0.0853 - acc: 0.9748 - val_loss: 0.5212 - val_acc: 0.8584\n",
      "Epoch 18/20\n",
      "157/157 [==============================] - 5s 34ms/step - loss: 0.0646 - acc: 0.9801 - val_loss: 0.5613 - val_acc: 0.8442\n",
      "Epoch 19/20\n",
      "157/157 [==============================] - 5s 35ms/step - loss: 0.0717 - acc: 0.9783 - val_loss: 0.5639 - val_acc: 0.8462\n",
      "Epoch 20/20\n",
      "157/157 [==============================] - 5s 34ms/step - loss: 0.0617 - acc: 0.9811 - val_loss: 0.6242 - val_acc: 0.8496\n"
     ]
    }
   ],
   "source": [
    "model.compile(loss='binary_crossentropy', optimizer='rmsprop', metrics=['acc'])\n",
    "history = model.fit(X_train, y_train, epochs=20, batch_size=128, validation_split=0.2)"
   ]
  },
  {
   "cell_type": "markdown",
   "metadata": {
    "id": "g30H6gAzw5vj"
   },
   "source": [
    "### 양방향 RNN 적용\n",
    "- Sequence 의 데이터를 정방향과 반대방향 두 번을 적용하여 결과를 합친다.\n",
    "- 문장이라면 단어들을 거꾸로 적용하는 것이다.\n",
    "- 문장 평가에는 효과가 있지만 주식 가격 변동에는 적합하지 않다. 왜 그럴까?"
   ]
  },
  {
   "cell_type": "code",
   "execution_count": 25,
   "metadata": {
    "id": "SDoZ0uhuw5vk"
   },
   "outputs": [],
   "source": [
    "from tensorflow.keras.layers import LSTM, Bidirectional\n",
    "\n",
    "model = Sequential()\n",
    "model.add(Embedding(10000, 32))\n",
    "model.add(Bidirectional(LSTM(32)))\n",
    "model.add(Dense(1, activation='sigmoid'))"
   ]
  },
  {
   "cell_type": "code",
   "execution_count": 26,
   "metadata": {
    "colab": {
     "base_uri": "https://localhost:8080/"
    },
    "id": "rlz8tDZDw5vl",
    "outputId": "c7683a10-89d6-4974-910d-143d587d4c6f"
   },
   "outputs": [
    {
     "name": "stdout",
     "output_type": "stream",
     "text": [
      "Model: \"sequential_5\"\n",
      "_________________________________________________________________\n",
      "Layer (type)                 Output Shape              Param #   \n",
      "=================================================================\n",
      "embedding_5 (Embedding)      (None, None, 32)          320000    \n",
      "_________________________________________________________________\n",
      "bidirectional_1 (Bidirection (None, 64)                16640     \n",
      "_________________________________________________________________\n",
      "dense_7 (Dense)              (None, 1)                 65        \n",
      "=================================================================\n",
      "Total params: 336,705\n",
      "Trainable params: 336,705\n",
      "Non-trainable params: 0\n",
      "_________________________________________________________________\n"
     ]
    }
   ],
   "source": [
    "model.summary()"
   ]
  },
  {
   "cell_type": "code",
   "execution_count": 27,
   "metadata": {
    "colab": {
     "base_uri": "https://localhost:8080/"
    },
    "id": "eFpI2pR9w5vm",
    "outputId": "cb9a2265-0907-4fd4-b002-4ab066aef485"
   },
   "outputs": [
    {
     "name": "stdout",
     "output_type": "stream",
     "text": [
      "Epoch 1/20\n",
      "157/157 [==============================] - 10s 48ms/step - loss: 0.6109 - acc: 0.6642 - val_loss: 0.3607 - val_acc: 0.8642\n",
      "Epoch 2/20\n",
      "157/157 [==============================] - 7s 43ms/step - loss: 0.3212 - acc: 0.8752 - val_loss: 0.3761 - val_acc: 0.8638\n",
      "Epoch 3/20\n",
      "157/157 [==============================] - 7s 43ms/step - loss: 0.2450 - acc: 0.9082 - val_loss: 0.4630 - val_acc: 0.8172\n",
      "Epoch 4/20\n",
      "157/157 [==============================] - 7s 43ms/step - loss: 0.2035 - acc: 0.9291 - val_loss: 0.4300 - val_acc: 0.8450\n",
      "Epoch 5/20\n",
      "157/157 [==============================] - 7s 43ms/step - loss: 0.1790 - acc: 0.9362 - val_loss: 0.3470 - val_acc: 0.8834\n",
      "Epoch 6/20\n",
      "157/157 [==============================] - 7s 43ms/step - loss: 0.1540 - acc: 0.9436 - val_loss: 0.3297 - val_acc: 0.8888\n",
      "Epoch 7/20\n",
      "157/157 [==============================] - 7s 42ms/step - loss: 0.1388 - acc: 0.9508 - val_loss: 0.4020 - val_acc: 0.8414\n",
      "Epoch 8/20\n",
      "157/157 [==============================] - 7s 42ms/step - loss: 0.1417 - acc: 0.9520 - val_loss: 0.3183 - val_acc: 0.8826\n",
      "Epoch 9/20\n",
      "157/157 [==============================] - 7s 42ms/step - loss: 0.1129 - acc: 0.9624 - val_loss: 0.3762 - val_acc: 0.8764\n",
      "Epoch 10/20\n",
      "157/157 [==============================] - 7s 42ms/step - loss: 0.1056 - acc: 0.9639 - val_loss: 0.4101 - val_acc: 0.8802\n",
      "Epoch 11/20\n",
      "157/157 [==============================] - 7s 43ms/step - loss: 0.0988 - acc: 0.9646 - val_loss: 0.4858 - val_acc: 0.8730\n",
      "Epoch 12/20\n",
      "157/157 [==============================] - 7s 43ms/step - loss: 0.0867 - acc: 0.9696 - val_loss: 0.4103 - val_acc: 0.8810\n",
      "Epoch 13/20\n",
      "157/157 [==============================] - 7s 43ms/step - loss: 0.0842 - acc: 0.9721 - val_loss: 0.3830 - val_acc: 0.8752\n",
      "Epoch 14/20\n",
      "157/157 [==============================] - 7s 43ms/step - loss: 0.0757 - acc: 0.9747 - val_loss: 0.4043 - val_acc: 0.8802\n",
      "Epoch 15/20\n",
      "157/157 [==============================] - 7s 43ms/step - loss: 0.0739 - acc: 0.9744 - val_loss: 0.4221 - val_acc: 0.8750\n",
      "Epoch 16/20\n",
      "157/157 [==============================] - 7s 42ms/step - loss: 0.0706 - acc: 0.9777 - val_loss: 0.4195 - val_acc: 0.8728\n",
      "Epoch 17/20\n",
      "157/157 [==============================] - 7s 43ms/step - loss: 0.0642 - acc: 0.9796 - val_loss: 0.4771 - val_acc: 0.8708\n",
      "Epoch 18/20\n",
      "157/157 [==============================] - 7s 42ms/step - loss: 0.0641 - acc: 0.9802 - val_loss: 0.5117 - val_acc: 0.8716\n",
      "Epoch 19/20\n",
      "157/157 [==============================] - 7s 42ms/step - loss: 0.0616 - acc: 0.9813 - val_loss: 0.5181 - val_acc: 0.8622\n",
      "Epoch 20/20\n",
      "157/157 [==============================] - 7s 43ms/step - loss: 0.0519 - acc: 0.9842 - val_loss: 0.4833 - val_acc: 0.8702\n"
     ]
    }
   ],
   "source": [
    "model.compile(loss='binary_crossentropy', optimizer='rmsprop', metrics=['acc'])\n",
    "history = model.fit(X_train, y_train, epochs=20, batch_size=128, validation_split=0.2)"
   ]
  },
  {
   "cell_type": "code",
   "execution_count": 28,
   "metadata": {
    "colab": {
     "base_uri": "https://localhost:8080/",
     "height": 282
    },
    "id": "7rRTfwWvw5vo",
    "outputId": "47fa3214-2fa5-416c-9b2b-7decb65db068"
   },
   "outputs": [
    {
     "data": {
      "text/plain": [
       "Text(2.5, 0.88, 'val_acc_max = 0.8888000249862671')"
      ]
     },
     "execution_count": 28,
     "metadata": {
      "tags": []
     },
     "output_type": "execute_result"
    },
    {
     "data": {
      "image/png": "[encoded data removed]",
      "text/plain": [
       "<Figure size 432x288 with 1 Axes>"
      ]
     },
     "metadata": {
      "needs_background": "light",
      "tags": []
     },
     "output_type": "display_data"
    }
   ],
   "source": [
    "h = history.history\n",
    "plt.plot(h['acc'], 'bo--')\n",
    "plt.plot(h['val_acc'], 'r^-')\n",
    "plt.legend(['acc', 'val_acc'])\n",
    "plt.text(2.5,0.88,'val_acc_max = '+ str(max(h['val_acc'])))"
   ]
  },
  {
   "cell_type": "code",
   "execution_count": 29,
   "metadata": {
    "colab": {
     "base_uri": "https://localhost:8080/",
     "height": 282
    },
    "id": "C348ltvxw5vq",
    "outputId": "ca995e0d-83c1-428a-c944-f02734c7e310"
   },
   "outputs": [
    {
     "data": {
      "text/plain": [
       "Text(2, 0.28, 'val_loss_min = 0.3183024227619171')"
      ]
     },
     "execution_count": 29,
     "metadata": {
      "tags": []
     },
     "output_type": "execute_result"
    },
    {
     "data": {
      "image/png": "[encoded data removed]",
      "text/plain": [
       "<Figure size 432x288 with 1 Axes>"
      ]
     },
     "metadata": {
      "needs_background": "light",
      "tags": []
     },
     "output_type": "display_data"
    }
   ],
   "source": [
    "plt.plot(h['loss'], 'bo--')\n",
    "plt.plot(h['val_loss'], 'r^-')\n",
    "plt.legend(['loss', 'val_loss'])\n",
    "plt.text(2,0.28,'val_loss_min = '+ str(min(h['val_loss'])))"
   ]
  },
  {
   "cell_type": "code",
   "execution_count": null,
   "metadata": {
    "id": "DJFV9pcdw5vr",
    "outputId": "b9ed2329-40a4-4984-f378-43951feb27e6",
    "scrolled": true
   },
   "outputs": [
    {
     "name": "stderr",
     "output_type": "stream",
     "text": [
      "C:\\Anaconda3\\envs\\py36\\lib\\site-packages\\h5py\\__init__.py:36: FutureWarning: Conversion of the second argument of issubdtype from `float` to `np.floating` is deprecated. In future, it will be treated as `np.float64 == np.dtype(float).type`.\n",
      "  from ._conv import register_converters as _register_converters\n",
      "Using TensorFlow backend.\n"
     ]
    },
    {
     "name": "stdout",
     "output_type": "stream",
     "text": [
      "Help on class LSTM in module keras.layers.recurrent:\n",
      "\n",
      "class LSTM(RNN)\n",
      " |  Long Short-Term Memory layer - Hochreiter 1997.\n",
      " |  \n",
      " |  # Arguments\n",
      " |      units: Positive integer, dimensionality of the output space.\n",
      " |      activation: Activation function to use\n",
      " |          (see [activations](../activations.md)).\n",
      " |          Default: hyperbolic tangent (`tanh`).\n",
      " |          If you pass `None`, no activation is applied\n",
      " |          (ie. \"linear\" activation: `a(x) = x`).\n",
      " |      recurrent_activation: Activation function to use\n",
      " |          for the recurrent step\n",
      " |          (see [activations](../activations.md)).\n",
      " |          Default: hard sigmoid (`hard_sigmoid`).\n",
      " |          If you pass `None`, no activation is applied\n",
      " |          (ie. \"linear\" activation: `a(x) = x`).\n",
      " |      use_bias: Boolean, whether the layer uses a bias vector.\n",
      " |      kernel_initializer: Initializer for the `kernel` weights matrix,\n",
      " |          used for the linear transformation of the inputs.\n",
      " |          (see [initializers](../initializers.md)).\n",
      " |      recurrent_initializer: Initializer for the `recurrent_kernel`\n",
      " |          weights matrix,\n",
      " |          used for the linear transformation of the recurrent state.\n",
      " |          (see [initializers](../initializers.md)).\n",
      " |      bias_initializer: Initializer for the bias vector\n",
      " |          (see [initializers](../initializers.md)).\n",
      " |      unit_forget_bias: Boolean.\n",
      " |          If True, add 1 to the bias of the forget gate at initialization.\n",
      " |          Setting it to true will also force `bias_initializer=\"zeros\"`.\n",
      " |          This is recommended in [Jozefowicz et al.]\n",
      " |          (http://www.jmlr.org/proceedings/papers/v37/jozefowicz15.pdf).\n",
      " |      kernel_regularizer: Regularizer function applied to\n",
      " |          the `kernel` weights matrix\n",
      " |          (see [regularizer](../regularizers.md)).\n",
      " |      recurrent_regularizer: Regularizer function applied to\n",
      " |          the `recurrent_kernel` weights matrix\n",
      " |          (see [regularizer](../regularizers.md)).\n",
      " |      bias_regularizer: Regularizer function applied to the bias vector\n",
      " |          (see [regularizer](../regularizers.md)).\n",
      " |      activity_regularizer: Regularizer function applied to\n",
      " |          the output of the layer (its \"activation\").\n",
      " |          (see [regularizer](../regularizers.md)).\n",
      " |      kernel_constraint: Constraint function applied to\n",
      " |          the `kernel` weights matrix\n",
      " |          (see [constraints](../constraints.md)).\n",
      " |      recurrent_constraint: Constraint function applied to\n",
      " |          the `recurrent_kernel` weights matrix\n",
      " |          (see [constraints](../constraints.md)).\n",
      " |      bias_constraint: Constraint function applied to the bias vector\n",
      " |          (see [constraints](../constraints.md)).\n",
      " |      dropout: Float between 0 and 1.\n",
      " |          Fraction of the units to drop for\n",
      " |          the linear transformation of the inputs.\n",
      " |      recurrent_dropout: Float between 0 and 1.\n",
      " |          Fraction of the units to drop for\n",
      " |          the linear transformation of the recurrent state.\n",
      " |      implementation: Implementation mode, either 1 or 2.\n",
      " |          Mode 1 will structure its operations as a larger number of\n",
      " |          smaller dot products and additions, whereas mode 2 will\n",
      " |          batch them into fewer, larger operations. These modes will\n",
      " |          have different performance profiles on different hardware and\n",
      " |          for different applications.\n",
      " |      return_sequences: Boolean. Whether to return the last output\n",
      " |          in the output sequence, or the full sequence.\n",
      " |      return_state: Boolean. Whether to return the last state\n",
      " |          in addition to the output.\n",
      " |      go_backwards: Boolean (default False).\n",
      " |          If True, process the input sequence backwards and return the\n",
      " |          reversed sequence.\n",
      " |      stateful: Boolean (default False). If True, the last state\n",
      " |          for each sample at index i in a batch will be used as initial\n",
      " |          state for the sample of index i in the following batch.\n",
      " |      unroll: Boolean (default False).\n",
      " |          If True, the network will be unrolled,\n",
      " |          else a symbolic loop will be used.\n",
      " |          Unrolling can speed-up a RNN,\n",
      " |          although it tends to be more memory-intensive.\n",
      " |          Unrolling is only suitable for short sequences.\n",
      " |  \n",
      " |  # References\n",
      " |      - [Long short-term memory]\n",
      " |        (http://www.bioinf.jku.at/publications/older/2604.pdf)\n",
      " |      - [Learning to forget: Continual prediction with LSTM]\n",
      " |        (http://www.mitpressjournals.org/doi/pdf/10.1162/089976600300015015)\n",
      " |      - [Supervised sequence labeling with recurrent neural networks]\n",
      " |        (http://www.cs.toronto.edu/~graves/preprint.pdf)\n",
      " |      - [A Theoretically Grounded Application of Dropout in\n",
      " |         Recurrent Neural Networks](https://arxiv.org/abs/1512.05287)\n",
      " |  \n",
      " |  Method resolution order:\n",
      " |      LSTM\n",
      " |      RNN\n",
      " |      keras.engine.base_layer.Layer\n",
      " |      builtins.object\n",
      " |  \n",
      " |  Methods defined here:\n",
      " |  \n",
      " |  __init__(self, units, activation='tanh', recurrent_activation='hard_sigmoid', use_bias=True, kernel_initializer='glorot_uniform', recurrent_initializer='orthogonal', bias_initializer='zeros', unit_forget_bias=True, kernel_regularizer=None, recurrent_regularizer=None, bias_regularizer=None, activity_regularizer=None, kernel_constraint=None, recurrent_constraint=None, bias_constraint=None, dropout=0.0, recurrent_dropout=0.0, implementation=1, return_sequences=False, return_state=False, go_backwards=False, stateful=False, unroll=False, **kwargs)\n",
      " |      Initialize self.  See help(type(self)) for accurate signature.\n",
      " |  \n",
      " |  call(self, inputs, mask=None, training=None, initial_state=None)\n",
      " |      This is where the layer's logic lives.\n",
      " |      \n",
      " |      # Arguments\n",
      " |          inputs: Input tensor, or list/tuple of input tensors.\n",
      " |          **kwargs: Additional keyword arguments.\n",
      " |      \n",
      " |      # Returns\n",
      " |          A tensor or list/tuple of tensors.\n",
      " |  \n",
      " |  get_config(self)\n",
      " |      Returns the config of the layer.\n",
      " |      \n",
      " |      A layer config is a Python dictionary (serializable)\n",
      " |      containing the configuration of a layer.\n",
      " |      The same layer can be reinstantiated later\n",
      " |      (without its trained weights) from this configuration.\n",
      " |      \n",
      " |      The config of a layer does not include connectivity\n",
      " |      information, nor the layer class name. These are handled\n",
      " |      by `Network` (one layer of abstraction above).\n",
      " |      \n",
      " |      # Returns\n",
      " |          Python dictionary.\n",
      " |  \n",
      " |  ----------------------------------------------------------------------\n",
      " |  Class methods defined here:\n",
      " |  \n",
      " |  from_config(config) from builtins.type\n",
      " |      Creates a layer from its config.\n",
      " |      \n",
      " |      This method is the reverse of `get_config`,\n",
      " |      capable of instantiating the same layer from the config\n",
      " |      dictionary. It does not handle layer connectivity\n",
      " |      (handled by Network), nor weights (handled by `set_weights`).\n",
      " |      \n",
      " |      # Arguments\n",
      " |          config: A Python dictionary, typically the\n",
      " |              output of get_config.\n",
      " |      \n",
      " |      # Returns\n",
      " |          A layer instance.\n",
      " |  \n",
      " |  ----------------------------------------------------------------------\n",
      " |  Data descriptors defined here:\n",
      " |  \n",
      " |  activation\n",
      " |  \n",
      " |  bias_constraint\n",
      " |  \n",
      " |  bias_initializer\n",
      " |  \n",
      " |  bias_regularizer\n",
      " |  \n",
      " |  dropout\n",
      " |  \n",
      " |  implementation\n",
      " |  \n",
      " |  kernel_constraint\n",
      " |  \n",
      " |  kernel_initializer\n",
      " |  \n",
      " |  kernel_regularizer\n",
      " |  \n",
      " |  recurrent_activation\n",
      " |  \n",
      " |  recurrent_constraint\n",
      " |  \n",
      " |  recurrent_dropout\n",
      " |  \n",
      " |  recurrent_initializer\n",
      " |  \n",
      " |  recurrent_regularizer\n",
      " |  \n",
      " |  unit_forget_bias\n",
      " |  \n",
      " |  units\n",
      " |  \n",
      " |  use_bias\n",
      " |  \n",
      " |  ----------------------------------------------------------------------\n",
      " |  Methods inherited from RNN:\n",
      " |  \n",
      " |  __call__(self, inputs, initial_state=None, constants=None, **kwargs)\n",
      " |      Wrapper around self.call(), for handling internal references.\n",
      " |      \n",
      " |      If a Keras tensor is passed:\n",
      " |          - We call self._add_inbound_node().\n",
      " |          - If necessary, we `build` the layer to match\n",
      " |              the _keras_shape of the input(s).\n",
      " |          - We update the _keras_shape of every input tensor with\n",
      " |              its new shape (obtained via self.compute_output_shape).\n",
      " |              This is done as part of _add_inbound_node().\n",
      " |          - We update the _keras_history of the output tensor(s)\n",
      " |              with the current layer.\n",
      " |              This is done as part of _add_inbound_node().\n",
      " |      \n",
      " |      # Arguments\n",
      " |          inputs: Can be a tensor or list/tuple of tensors.\n",
      " |          **kwargs: Additional keyword arguments to be passed to `call()`.\n",
      " |      \n",
      " |      # Returns\n",
      " |          Output of the layer's `call` method.\n",
      " |      \n",
      " |      # Raises\n",
      " |          ValueError: in case the layer is missing shape information\n",
      " |              for its `build` call.\n",
      " |  \n",
      " |  build(self, input_shape)\n",
      " |      Creates the layer weights.\n",
      " |      \n",
      " |      Must be implemented on all layers that have weights.\n",
      " |      \n",
      " |      # Arguments\n",
      " |          input_shape: Keras tensor (future input to layer)\n",
      " |              or list/tuple of Keras tensors to reference\n",
      " |              for weight shape computations.\n",
      " |  \n",
      " |  compute_mask(self, inputs, mask)\n",
      " |      Computes an output mask tensor.\n",
      " |      \n",
      " |      # Arguments\n",
      " |          inputs: Tensor or list of tensors.\n",
      " |          mask: Tensor or list of tensors.\n",
      " |      \n",
      " |      # Returns\n",
      " |          None or a tensor (or list of tensors,\n",
      " |              one per output tensor of the layer).\n",
      " |  \n",
      " |  compute_output_shape(self, input_shape)\n",
      " |      Computes the output shape of the layer.\n",
      " |      \n",
      " |      Assumes that the layer will be built\n",
      " |      to match that input shape provided.\n",
      " |      \n",
      " |      # Arguments\n",
      " |          input_shape: Shape tuple (tuple of integers)\n",
      " |              or list of shape tuples (one per output tensor of the layer).\n",
      " |              Shape tuples can include None for free dimensions,\n",
      " |              instead of an integer.\n",
      " |      \n",
      " |      # Returns\n",
      " |          An input shape tuple.\n",
      " |  \n",
      " |  get_initial_state(self, inputs)\n",
      " |  \n",
      " |  get_losses_for(self, inputs=None)\n",
      " |  \n",
      " |  reset_states(self, states=None)\n",
      " |  \n",
      " |  ----------------------------------------------------------------------\n",
      " |  Data descriptors inherited from RNN:\n",
      " |  \n",
      " |  losses\n",
      " |  \n",
      " |  non_trainable_weights\n",
      " |  \n",
      " |  states\n",
      " |  \n",
      " |  trainable_weights\n",
      " |  \n",
      " |  ----------------------------------------------------------------------\n",
      " |  Methods inherited from keras.engine.base_layer.Layer:\n",
      " |  \n",
      " |  add_loss(self, losses, inputs=None)\n",
      " |      Adds losses to the layer.\n",
      " |      \n",
      " |      The loss may potentially be conditional on some inputs tensors,\n",
      " |      for instance activity losses are conditional on the layer's inputs.\n",
      " |      \n",
      " |      # Arguments\n",
      " |          losses: loss tensor or list of loss tensors\n",
      " |              to add to the layer.\n",
      " |          inputs: input tensor or list of inputs tensors to mark\n",
      " |              the losses as conditional on these inputs.\n",
      " |              If None is passed, the loss is assumed unconditional\n",
      " |              (e.g. L2 weight regularization, which only depends\n",
      " |              on the layer's weights variables, not on any inputs tensors).\n",
      " |  \n",
      " |  add_update(self, updates, inputs=None)\n",
      " |      Adds updates to the layer.\n",
      " |      \n",
      " |      The updates may potentially be conditional on some inputs tensors,\n",
      " |      for instance batch norm updates are conditional on the layer's inputs.\n",
      " |      \n",
      " |      # Arguments\n",
      " |          updates: update op or list of update ops\n",
      " |              to add to the layer.\n",
      " |          inputs: input tensor or list of inputs tensors to mark\n",
      " |              the updates as conditional on these inputs.\n",
      " |              If None is passed, the updates are assumed unconditional.\n",
      " |  \n",
      " |  add_weight(self, name, shape, dtype=None, initializer=None, regularizer=None, trainable=True, constraint=None)\n",
      " |      Adds a weight variable to the layer.\n",
      " |      \n",
      " |      # Arguments\n",
      " |          name: String, the name for the weight variable.\n",
      " |          shape: The shape tuple of the weight.\n",
      " |          dtype: The dtype of the weight.\n",
      " |          initializer: An Initializer instance (callable).\n",
      " |          regularizer: An optional Regularizer instance.\n",
      " |          trainable: A boolean, whether the weight should\n",
      " |              be trained via backprop or not (assuming\n",
      " |              that the layer itself is also trainable).\n",
      " |          constraint: An optional Constraint instance.\n",
      " |      \n",
      " |      # Returns\n",
      " |          The created weight variable.\n",
      " |  \n",
      " |  assert_input_compatibility(self, inputs)\n",
      " |      Checks compatibility between the layer and provided inputs.\n",
      " |      \n",
      " |      This checks that the tensor(s) `input`\n",
      " |      verify the input assumptions of the layer\n",
      " |      (if any). If not, exceptions are raised.\n",
      " |      \n",
      " |      # Arguments\n",
      " |          inputs: input tensor or list of input tensors.\n",
      " |      \n",
      " |      # Raises\n",
      " |          ValueError: in case of mismatch between\n",
      " |              the provided inputs and the expectations of the layer.\n",
      " |  \n",
      " |  count_params(self)\n",
      " |      Counts the total number of scalars composing the weights.\n",
      " |      \n",
      " |      # Returns\n",
      " |          An integer count.\n",
      " |      \n",
      " |      # Raises\n",
      " |          RuntimeError: if the layer isn't yet built\n",
      " |              (in which case its weights aren't yet defined).\n",
      " |  \n",
      " |  get_input_at(self, node_index)\n",
      " |      Retrieves the input tensor(s) of a layer at a given node.\n",
      " |      \n",
      " |      # Arguments\n",
      " |          node_index: Integer, index of the node\n",
      " |              from which to retrieve the attribute.\n",
      " |              E.g. `node_index=0` will correspond to the\n",
      " |              first time the layer was called.\n",
      " |      \n",
      " |      # Returns\n",
      " |          A tensor (or list of tensors if the layer has multiple inputs).\n",
      " |  \n",
      " |  get_input_mask_at(self, node_index)\n",
      " |      Retrieves the input mask tensor(s) of a layer at a given node.\n",
      " |      \n",
      " |      # Arguments\n",
      " |          node_index: Integer, index of the node\n",
      " |              from which to retrieve the attribute.\n",
      " |              E.g. `node_index=0` will correspond to the\n",
      " |              first time the layer was called.\n",
      " |      \n",
      " |      # Returns\n",
      " |          A mask tensor\n",
      " |          (or list of tensors if the layer has multiple inputs).\n",
      " |  \n",
      " |  get_input_shape_at(self, node_index)\n",
      " |      Retrieves the input shape(s) of a layer at a given node.\n",
      " |      \n",
      " |      # Arguments\n",
      " |          node_index: Integer, index of the node\n",
      " |              from which to retrieve the attribute.\n",
      " |              E.g. `node_index=0` will correspond to the\n",
      " |              first time the layer was called.\n",
      " |      \n",
      " |      # Returns\n",
      " |          A shape tuple\n",
      " |          (or list of shape tuples if the layer has multiple inputs).\n",
      " |  \n",
      " |  get_output_at(self, node_index)\n",
      " |      Retrieves the output tensor(s) of a layer at a given node.\n",
      " |      \n",
      " |      # Arguments\n",
      " |          node_index: Integer, index of the node\n",
      " |              from which to retrieve the attribute.\n",
      " |              E.g. `node_index=0` will correspond to the\n",
      " |              first time the layer was called.\n",
      " |      \n",
      " |      # Returns\n",
      " |          A tensor (or list of tensors if the layer has multiple outputs).\n",
      " |  \n",
      " |  get_output_mask_at(self, node_index)\n",
      " |      Retrieves the output mask tensor(s) of a layer at a given node.\n",
      " |      \n",
      " |      # Arguments\n",
      " |          node_index: Integer, index of the node\n",
      " |              from which to retrieve the attribute.\n",
      " |              E.g. `node_index=0` will correspond to the\n",
      " |              first time the layer was called.\n",
      " |      \n",
      " |      # Returns\n",
      " |          A mask tensor\n",
      " |          (or list of tensors if the layer has multiple outputs).\n",
      " |  \n",
      " |  get_output_shape_at(self, node_index)\n",
      " |      Retrieves the output shape(s) of a layer at a given node.\n",
      " |      \n",
      " |      # Arguments\n",
      " |          node_index: Integer, index of the node\n",
      " |              from which to retrieve the attribute.\n",
      " |              E.g. `node_index=0` will correspond to the\n",
      " |              first time the layer was called.\n",
      " |      \n",
      " |      # Returns\n",
      " |          A shape tuple\n",
      " |          (or list of shape tuples if the layer has multiple outputs).\n",
      " |  \n",
      " |  get_updates_for(self, inputs)\n",
      " |  \n",
      " |  get_weights(self)\n",
      " |      Returns the current weights of the layer.\n",
      " |      \n",
      " |      # Returns\n",
      " |          Weights values as a list of numpy arrays.\n",
      " |  \n",
      " |  set_weights(self, weights)\n",
      " |      Sets the weights of the layer, from Numpy arrays.\n",
      " |      \n",
      " |      # Arguments\n",
      " |          weights: a list of Numpy arrays. The number\n",
      " |              of arrays and their shape must match\n",
      " |              number of the dimensions of the weights\n",
      " |              of the layer (i.e. it should match the\n",
      " |              output of `get_weights`).\n",
      " |      \n",
      " |      # Raises\n",
      " |          ValueError: If the provided weights list does not match the\n",
      " |              layer's specifications.\n",
      " |  \n",
      " |  ----------------------------------------------------------------------\n",
      " |  Data descriptors inherited from keras.engine.base_layer.Layer:\n",
      " |  \n",
      " |  __dict__\n",
      " |      dictionary for instance variables (if defined)\n",
      " |  \n",
      " |  __weakref__\n",
      " |      list of weak references to the object (if defined)\n",
      " |  \n",
      " |  built\n",
      " |  \n",
      " |  input\n",
      " |      Retrieves the input tensor(s) of a layer.\n",
      " |      \n",
      " |      Only applicable if the layer has exactly one inbound node,\n",
      " |      i.e. if it is connected to one incoming layer.\n",
      " |      \n",
      " |      # Returns\n",
      " |          Input tensor or list of input tensors.\n",
      " |      \n",
      " |      # Raises\n",
      " |          AttributeError: if the layer is connected to\n",
      " |          more than one incoming layers.\n",
      " |  \n",
      " |  input_mask\n",
      " |      Retrieves the input mask tensor(s) of a layer.\n",
      " |      \n",
      " |      Only applicable if the layer has exactly one inbound node,\n",
      " |      i.e. if it is connected to one incoming layer.\n",
      " |      \n",
      " |      # Returns\n",
      " |          Input mask tensor (potentially None) or list of input\n",
      " |          mask tensors.\n",
      " |      \n",
      " |      # Raises\n",
      " |          AttributeError: if the layer is connected to\n",
      " |          more than one incoming layers.\n",
      " |  \n",
      " |  input_shape\n",
      " |      Retrieves the input shape tuple(s) of a layer.\n",
      " |      \n",
      " |      Only applicable if the layer has exactly one inbound node,\n",
      " |      i.e. if it is connected to one incoming layer.\n",
      " |      \n",
      " |      # Returns\n",
      " |          Input shape tuple\n",
      " |          (or list of input shape tuples, one tuple per input tensor).\n",
      " |      \n",
      " |      # Raises\n",
      " |          AttributeError: if the layer is connected to\n",
      " |          more than one incoming layers.\n",
      " |  \n",
      " |  output\n",
      " |      Retrieves the output tensor(s) of a layer.\n",
      " |      \n",
      " |      Only applicable if the layer has exactly one inbound node,\n",
      " |      i.e. if it is connected to one incoming layer.\n",
      " |      \n",
      " |      # Returns\n",
      " |          Output tensor or list of output tensors.\n",
      " |      \n",
      " |      # Raises\n",
      " |          AttributeError: if the layer is connected to\n",
      " |          more than one incoming layers.\n",
      " |  \n",
      " |  output_mask\n",
      " |      Retrieves the output mask tensor(s) of a layer.\n",
      " |      \n",
      " |      Only applicable if the layer has exactly one inbound node,\n",
      " |      i.e. if it is connected to one incoming layer.\n",
      " |      \n",
      " |      # Returns\n",
      " |          Output mask tensor (potentially None) or list of output\n",
      " |          mask tensors.\n",
      " |      \n",
      " |      # Raises\n",
      " |          AttributeError: if the layer is connected to\n",
      " |          more than one incoming layers.\n",
      " |  \n",
      " |  output_shape\n",
      " |      Retrieves the output shape tuple(s) of a layer.\n",
      " |      \n",
      " |      Only applicable if the layer has one inbound node,\n",
      " |      or if all inbound nodes have the same output shape.\n",
      " |      \n",
      " |      # Returns\n",
      " |          Output shape tuple\n",
      " |          (or list of input shape tuples, one tuple per output tensor).\n",
      " |      \n",
      " |      # Raises\n",
      " |          AttributeError: if the layer is connected to\n",
      " |          more than one incoming layers.\n",
      " |  \n",
      " |  updates\n",
      " |  \n",
      " |  weights\n",
      "\n"
     ]
    }
   ],
   "source": [
    "help(LSTM)"
   ]
  },
  {
   "cell_type": "markdown",
   "metadata": {
    "id": "Eio1woZXw5vs"
   },
   "source": [
    "### Conv1D\n",
    "- 시퀀스를 높이가 없는 이미지로 생각하여 구간 윈도우 상에서 패턴을 찾아낸다.\n",
    "- (높이, 넓이, 채널) => (단어, 임베딩차원)\n",
    "- 긴 시퀀스에서 특정 패턴을 찾아내는 데 효과가 크고, RNN에 비해 속도가 빠르다.\n",
    "- Conv1D, MaxPooling1D, GlobalMaxPooling1D 등 사용"
   ]
  }
 ],
 "metadata": {
  "accelerator": "GPU",
  "colab": {
   "collapsed_sections": [
    "-Ppg98JNw5u5",
    "AzZzHXtIw5vD",
    "BWw9Xdl7w5vM",
    "Eio1woZXw5vs"
   ],
   "name": "41_rnn_LSTM.ipynb",
   "provenance": []
  },
  "kernelspec": {
   "display_name": "Python 3",
   "language": "python",
   "name": "python3"
  },
  "language_info": {
   "codemirror_mode": {
    "name": "ipython",
    "version": 3
   },
   "file_extension": ".py",
   "mimetype": "text/x-python",
   "name": "python",
   "nbconvert_exporter": "python",
   "pygments_lexer": "ipython3",
   "version": "3.8.8"
  }
 },
 "nbformat": 4,
 "nbformat_minor": 1
}
